{
 "cells": [
  {
   "cell_type": "markdown",
   "metadata": {},
   "source": [
    "# Практическое задание 2 (часть 1)\n",
    "\n",
    "# Определение частей речи с помощью скрытой марковской модели\n",
    "\n",
    "## курс \"Математические методы анализа текстов\"\n",
    "\n",
    "\n",
    "### ФИО: Алексеев Василий Антонович"
   ]
  },
  {
   "cell_type": "markdown",
   "metadata": {},
   "source": [
    "## Введение\n",
    "\n",
    "### Постановка задачи\n",
    "\n",
    "В данной лабораторной работе вам предстоит обучить скрытую марковскую модель на размеченных данных и реализовать алгоритм Витерби для задачи POS-теггинга (определение частей речи слов в тексте), а также ознакомиться с использованием  ряда POS-теггеров из библиотеки NLTK.\n",
    "\n",
    "### Комментарии и советы\n",
    "\n",
    "1. Для выполнения потребуются модули Python numpy, nltk.\n",
    "\n",
    "2. Все необходимые для выполнения задания данные либо приложены, либо могут быть скачаны с помощью nltk.download().\n",
    "\n",
    "3. Посмотреть параметры конструктора и других методов классов можно набрав и выполнив в ячейке с кодом '?full_method_name'.\n",
    "\n",
    "### Задача определения частей речи (POS)\n",
    "\n",
    "Мы будем решать задачу определения частей речи (POS-теггинга) с помощью скрытой марковской модели (HMM). Формула совместной плотности наблюдаемых и скрытых переменных задается как\n",
    "\n",
    "$$ p(x, t) = p(t) p(x|t) = p(t_1)  \\prod_{i=2}^{N_x} p(t_i|t_{i-1}) \\prod_{i=1}^{N_x} p(x_i|t_i)$$\n",
    "\n",
    "#### Переменные модели\n",
    "\n",
    "- наблюдаемые переменные $X$ - словарь корпуса;\n",
    "\n",
    "- скрытые переменные $T$ - множество POS-тегов.\n",
    "\n",
    "- x - одно предложение, $N_x$ - длина предложения\n",
    "\n",
    "- t - теги одного предложения, $N_t$ - длина вектора меток\n",
    "\n",
    "#### Параметры модели\n",
    "\n",
    "- матрица вероятностей переходов $A \\in \\mathbb{R}^{|T| \\times |T|}$, $A_{ij} = p(t_s=i|t_{s-1}=j) \\; \\forall s$\n",
    "\n",
    "- матрица выходных вероятностей $B \\in \\mathbb{R}^{|X| \\times |T|}$, $B_{ij} = p(x_s =i|t_s =j) \\; \\forall s$\n",
    "\n",
    "- вектор начальных вероятностей $C \\in \\mathbb{R}^{|T|}$, $C_i = p(t_1=i)$\n",
    "\n",
    "\n",
    "#### Обучение модели\n",
    "\n",
    "* Для обучения параметров $A$ и $B$ используется метод максимума правдоподобия. Оценки вычисляются на основе частот совстречаемости тегов и тегов со словами ():\n",
    "\n",
    "$$a_{ij} = \\frac{\\sum_{t}\\sum_{s=2}^{N_t} \\mathbb{I}[t_{s} = i, t_{s - 1} = j]}{\\sum_{t}\\sum_{s=2}^{N_t} \\mathbb{I}[t_{s} = j]}$$\n",
    "\n",
    "$$b_{ij} = \\frac{\\sum_{t, x}\\sum_{s=1}^{N_t} \\mathbb{I}[x_{s} = i, t_{s} = j]}{\\sum_{t, x}\\sum_{s=1}^{N_t} \\mathbb{I}[t_{s} = j]}$$\n",
    "\n",
    "* Параметры $C$ можно аналогично вычислять по частотам или считать распределение $p(t_1)$ равномерным"
   ]
  },
  {
   "cell_type": "markdown",
   "metadata": {},
   "source": [
    "#### Применение модели\n",
    "\n",
    "Применение модели на новых данных реализуется с помощью алгоритма Витерби.Это алгоритм динамиеского программирования, с помощью которого мы будем находить наиболее вероятную последовательность скрытых состояний модели для фиксированной последовательности слов:\n",
    "\n",
    "$$ \\hat{t} = \\arg \\max_{t} p(t|x) = \\arg \\max_{t} p(x, t) $$\n",
    "\n",
    "Определим функцию, определяющую максимальную вероятность последовательности, заканчивающейся на $i$-ой позиции в состоянии $k$:\n",
    "\n",
    "$$\\delta(k, i) = \\max_{t_1, \\dots t_{i-1}} p(x_1, \\dots x_i, t_1, \\dots t_i=k)$$\n",
    "\n",
    "Тогда $\\max_{k} \\delta(k, N_x)$ - максимальная вероятность всей последовательности. А состояния, на которых эта вероятность достигается - ответ задачи.\n",
    "\n",
    "Алгоритм Витерби заключается в последовательном пересчете функции $\\delta(k, i)$ по формуле:\n",
    "\n",
    "$$\\delta(k, i) = \\max_{m} \\delta(m, i-1) p(t_i = k|t_{i-1} = m) p(x_i|t_i=k) $$\n",
    "\n",
    "Аналогично пересчитывается функция, определяющая, на каком состоянии этот максимум достигается:\n",
    "\n",
    "$$s(k, i) = \\arg \\max_{m} \\delta(m, i-1) p(t_i = k|t_{i-1} = m) p(x_i|t_i=k) $$\n",
    "\n",
    "\n",
    "На практике это означает заполнение двумерных массивов размерности: (длина последовательности) $\\times$ (количество возможных состояний). Когда массивы заполнены, $\\arg \\max_{k} \\delta(k, N_x)$ говорит о последнем состоянии. Начиная с него можно восстановить все состояния по массиву $s$. \n",
    "\n",
    "Осталось уточнить, как стартовать последовательный пересчет (чем заполнить первый столбец массива вероятностей):\n",
    "\n",
    "$$\\delta(k, 1) = p(k) p(x_1|t_1=k)$$\n",
    "\n",
    "Подробнее о HMM можно прочитать по [ссылке](https://web.stanford.edu/~jurafsky/slp3/A.pdf)"
   ]
  },
  {
   "cell_type": "markdown",
   "metadata": {},
   "source": [
    "## Часть 1. Загрузка корпуса (1 балл)\n",
    "\n",
    "Загрузите brown корпус с универсальной системой тегирования. Для этого вам понадобятся ресурсы brown и universal_tagset из nltk.download().  \n",
    "\n",
    "Так как каждый конкретный датасет может использовать свою систему тегов, в NLTK предусмотрено универсальное множество тегов и возможность приведения к нему других систем. Это множество включает в себя следующие теги:\n",
    "\n",
    "\n",
    "- ADJ - adjective (new, good, high, ...)\n",
    "- ADP - adposition\t(on, of, at, ...)\n",
    "- ADV - adverb\t(really, already, still, ...)\n",
    "- CONJ\t- conjunction\t(and, or, but, ...)\n",
    "- DET - determiner, article\t(the, a, some, ...)\n",
    "- NOUN\t- noun\t(year, home, costs, ...)\n",
    "- NUM - numeral\t(twenty-four, fourth, 1991, ...)\n",
    "- PRT -\tparticle (at, on, out, ...)\n",
    "- PRON - pronoun (he, their, her, ...)\n",
    "- VERB - verb (is, say, told, ...)\n",
    "- .\t- punctuation marks\t(. , ;)\n",
    "- X\t- other\t(ersatz, esprit, dunno, ...)\n",
    "\n",
    "Обратите внимание, что тегсеты в корпусах текстов и в различных теггерах могут быть разными. Проверять это можно, глядя на сами теги, а симптом - подозрительно низкое качество теггирования. В таких случаях рекомендуется всё приводить сперва к универсальному тегсету, а потом уже мерять качество. Полезной может оказаться эта ссылка http://www.nltk.org/_modules/nltk/tag/mapping.html"
   ]
  },
  {
   "cell_type": "code",
   "execution_count": 41,
   "metadata": {},
   "outputs": [],
   "source": [
    "from collections import Counter\n",
    "\n",
    "import numpy as np\n",
    "import matplotlib.pyplot as plt\n",
    "\n",
    "%matplotlib inline"
   ]
  },
  {
   "cell_type": "code",
   "execution_count": 30,
   "metadata": {},
   "outputs": [
    {
     "name": "stderr",
     "output_type": "stream",
     "text": [
      "[nltk_data] Downloading package universal_tagset to\n",
      "[nltk_data]     /home/alvant/nltk_data...\n",
      "[nltk_data]   Unzipping taggers/universal_tagset.zip.\n"
     ]
    },
    {
     "data": {
      "text/plain": [
       "True"
      ]
     },
     "execution_count": 30,
     "metadata": {},
     "output_type": "execute_result"
    }
   ],
   "source": [
    "import nltk\n",
    "\n",
    "nltk.download('universal_tagset')"
   ]
  },
  {
   "cell_type": "code",
   "execution_count": 31,
   "metadata": {},
   "outputs": [],
   "source": [
    "from nltk.corpus import brown\n",
    "\n",
    "brown_tagged_sents = brown.tagged_sents(tagset=\"universal\")\n",
    "\n",
    "# you code here"
   ]
  },
  {
   "cell_type": "code",
   "execution_count": 4,
   "metadata": {},
   "outputs": [
    {
     "data": {
      "text/plain": [
       "57340"
      ]
     },
     "execution_count": 4,
     "metadata": {},
     "output_type": "execute_result"
    }
   ],
   "source": [
    "len(brown.sents())"
   ]
  },
  {
   "cell_type": "code",
   "execution_count": 5,
   "metadata": {},
   "outputs": [
    {
     "data": {
      "text/plain": [
       "57340"
      ]
     },
     "execution_count": 5,
     "metadata": {},
     "output_type": "execute_result"
    }
   ],
   "source": [
    "len(brown.tagged_sents())"
   ]
  },
  {
   "cell_type": "code",
   "execution_count": 6,
   "metadata": {},
   "outputs": [
    {
     "data": {
      "text/plain": [
       "['The',\n",
       " 'Fulton',\n",
       " 'County',\n",
       " 'Grand',\n",
       " 'Jury',\n",
       " 'said',\n",
       " 'Friday',\n",
       " 'an',\n",
       " 'investigation',\n",
       " 'of',\n",
       " \"Atlanta's\",\n",
       " 'recent',\n",
       " 'primary',\n",
       " 'election',\n",
       " 'produced',\n",
       " '``',\n",
       " 'no',\n",
       " 'evidence',\n",
       " \"''\",\n",
       " 'that',\n",
       " 'any',\n",
       " 'irregularities',\n",
       " 'took',\n",
       " 'place',\n",
       " '.']"
      ]
     },
     "execution_count": 6,
     "metadata": {},
     "output_type": "execute_result"
    }
   ],
   "source": [
    "brown.sents()[0]"
   ]
  },
  {
   "cell_type": "code",
   "execution_count": 7,
   "metadata": {},
   "outputs": [
    {
     "data": {
      "text/plain": [
       "[('The', 'AT'),\n",
       " ('Fulton', 'NP-TL'),\n",
       " ('County', 'NN-TL'),\n",
       " ('Grand', 'JJ-TL'),\n",
       " ('Jury', 'NN-TL'),\n",
       " ('said', 'VBD'),\n",
       " ('Friday', 'NR'),\n",
       " ('an', 'AT'),\n",
       " ('investigation', 'NN'),\n",
       " ('of', 'IN'),\n",
       " (\"Atlanta's\", 'NP$'),\n",
       " ('recent', 'JJ'),\n",
       " ('primary', 'NN'),\n",
       " ('election', 'NN'),\n",
       " ('produced', 'VBD'),\n",
       " ('``', '``'),\n",
       " ('no', 'AT'),\n",
       " ('evidence', 'NN'),\n",
       " (\"''\", \"''\"),\n",
       " ('that', 'CS'),\n",
       " ('any', 'DTI'),\n",
       " ('irregularities', 'NNS'),\n",
       " ('took', 'VBD'),\n",
       " ('place', 'NN'),\n",
       " ('.', '.')]"
      ]
     },
     "execution_count": 7,
     "metadata": {},
     "output_type": "execute_result"
    }
   ],
   "source": [
    "brown.tagged_sents()[0]"
   ]
  },
  {
   "cell_type": "code",
   "execution_count": 32,
   "metadata": {},
   "outputs": [
    {
     "data": {
      "text/plain": [
       "[('The', 'DET'),\n",
       " ('Fulton', 'NOUN'),\n",
       " ('County', 'NOUN'),\n",
       " ('Grand', 'ADJ'),\n",
       " ('Jury', 'NOUN'),\n",
       " ('said', 'VERB'),\n",
       " ('Friday', 'NOUN'),\n",
       " ('an', 'DET'),\n",
       " ('investigation', 'NOUN'),\n",
       " ('of', 'ADP'),\n",
       " (\"Atlanta's\", 'NOUN'),\n",
       " ('recent', 'ADJ'),\n",
       " ('primary', 'NOUN'),\n",
       " ('election', 'NOUN'),\n",
       " ('produced', 'VERB'),\n",
       " ('``', '.'),\n",
       " ('no', 'DET'),\n",
       " ('evidence', 'NOUN'),\n",
       " (\"''\", '.'),\n",
       " ('that', 'ADP'),\n",
       " ('any', 'DET'),\n",
       " ('irregularities', 'NOUN'),\n",
       " ('took', 'VERB'),\n",
       " ('place', 'NOUN'),\n",
       " ('.', '.')]"
      ]
     },
     "execution_count": 32,
     "metadata": {},
     "output_type": "execute_result"
    }
   ],
   "source": [
    "brown_tagged_sents[0]"
   ]
  },
  {
   "cell_type": "code",
   "execution_count": 8,
   "metadata": {},
   "outputs": [
    {
     "data": {
      "text/plain": [
       "[[('The', 'AT'),\n",
       "  ('Fulton', 'NP-TL'),\n",
       "  ('County', 'NN-TL'),\n",
       "  ('Grand', 'JJ-TL'),\n",
       "  ('Jury', 'NN-TL'),\n",
       "  ('said', 'VBD'),\n",
       "  ('Friday', 'NR'),\n",
       "  ('an', 'AT'),\n",
       "  ('investigation', 'NN'),\n",
       "  ('of', 'IN'),\n",
       "  (\"Atlanta's\", 'NP$'),\n",
       "  ('recent', 'JJ'),\n",
       "  ('primary', 'NN'),\n",
       "  ('election', 'NN'),\n",
       "  ('produced', 'VBD'),\n",
       "  ('``', '``'),\n",
       "  ('no', 'AT'),\n",
       "  ('evidence', 'NN'),\n",
       "  (\"''\", \"''\"),\n",
       "  ('that', 'CS'),\n",
       "  ('any', 'DTI'),\n",
       "  ('irregularities', 'NNS'),\n",
       "  ('took', 'VBD'),\n",
       "  ('place', 'NN'),\n",
       "  ('.', '.')]]"
      ]
     },
     "execution_count": 8,
     "metadata": {},
     "output_type": "execute_result"
    }
   ],
   "source": [
    "brown.tagged_paras()[0]"
   ]
  },
  {
   "cell_type": "code",
   "execution_count": 10,
   "metadata": {},
   "outputs": [
    {
     "data": {
      "text/plain": [
       "[('The', 'AT'),\n",
       " ('Fulton', 'NP-TL'),\n",
       " ('County', 'NN-TL'),\n",
       " ('Grand', 'JJ-TL'),\n",
       " ('Jury', 'NN-TL'),\n",
       " ('said', 'VBD'),\n",
       " ('Friday', 'NR'),\n",
       " ('an', 'AT'),\n",
       " ('investigation', 'NN'),\n",
       " ('of', 'IN')]"
      ]
     },
     "execution_count": 10,
     "metadata": {},
     "output_type": "execute_result"
    }
   ],
   "source": [
    "brown.tagged_words()[:10]"
   ]
  },
  {
   "cell_type": "code",
   "execution_count": 11,
   "metadata": {},
   "outputs": [
    {
     "data": {
      "text/plain": [
       "1161192"
      ]
     },
     "execution_count": 11,
     "metadata": {},
     "output_type": "execute_result"
    }
   ],
   "source": [
    "len(brown.tagged_words())"
   ]
  },
  {
   "cell_type": "code",
   "execution_count": 12,
   "metadata": {},
   "outputs": [
    {
     "data": {
      "text/plain": [
       "['The',\n",
       " 'Fulton',\n",
       " 'County',\n",
       " 'Grand',\n",
       " 'Jury',\n",
       " 'said',\n",
       " 'Friday',\n",
       " 'an',\n",
       " 'investigation',\n",
       " 'of']"
      ]
     },
     "execution_count": 12,
     "metadata": {},
     "output_type": "execute_result"
    }
   ],
   "source": [
    "brown.words()[:10]"
   ]
  },
  {
   "cell_type": "code",
   "execution_count": 14,
   "metadata": {},
   "outputs": [],
   "source": [
    "words_counter = Counter(brown.words())"
   ]
  },
  {
   "cell_type": "code",
   "execution_count": 33,
   "metadata": {},
   "outputs": [],
   "source": [
    "tags_counter = Counter(wt[1] for s in brown_tagged_sents for wt in s)"
   ]
  },
  {
   "cell_type": "code",
   "execution_count": 16,
   "metadata": {},
   "outputs": [
    {
     "data": {
      "text/plain": [
       "[('the', 62713),\n",
       " (',', 58334),\n",
       " ('.', 49346),\n",
       " ('of', 36080),\n",
       " ('and', 27915),\n",
       " ('to', 25732),\n",
       " ('a', 21881),\n",
       " ('in', 19536),\n",
       " ('that', 10237),\n",
       " ('is', 10011)]"
      ]
     },
     "execution_count": 16,
     "metadata": {},
     "output_type": "execute_result"
    }
   ],
   "source": [
    "words_counter.most_common(10)"
   ]
  },
  {
   "cell_type": "code",
   "execution_count": 34,
   "metadata": {},
   "outputs": [
    {
     "data": {
      "text/plain": [
       "[('NOUN', 275558),\n",
       " ('VERB', 182750),\n",
       " ('.', 147565),\n",
       " ('ADP', 144766),\n",
       " ('DET', 137019),\n",
       " ('ADJ', 83721),\n",
       " ('ADV', 56239),\n",
       " ('PRON', 49334),\n",
       " ('CONJ', 38151),\n",
       " ('PRT', 29829)]"
      ]
     },
     "execution_count": 34,
     "metadata": {},
     "output_type": "execute_result"
    }
   ],
   "source": [
    "tags_counter.most_common(10)"
   ]
  },
  {
   "cell_type": "code",
   "execution_count": 49,
   "metadata": {},
   "outputs": [
    {
     "name": "stdout",
     "output_type": "stream",
     "text": [
      " 5 percentile len = 4.0\n",
      "10 percentile len = 6.0\n",
      "25 percentile len = 11.0\n",
      "50 percentile len = 18.0\n",
      "75 percentile len = 27.0\n",
      "90 percentile len = 37.0\n",
      "95 percentile len = 44.0\n"
     ]
    }
   ],
   "source": [
    "lens = [len(s) for s in brown.sents()]\n",
    "\n",
    "for p in [5, 10, 25, 50, 75, 90, 95]:\n",
    "    print(f'{p:2} percentile len =', np.percentile(lens, p))"
   ]
  },
  {
   "cell_type": "code",
   "execution_count": 24,
   "metadata": {},
   "outputs": [
    {
     "data": {
      "image/png": "[encoded data removed]",
      "text/plain": [
       "<Figure size 720x360 with 1 Axes>"
      ]
     },
     "metadata": {
      "needs_background": "light"
     },
     "output_type": "display_data"
    }
   ],
   "source": [
    "fig = plt.figure(figsize=(10, 5))\n",
    "\n",
    "most_common = words_counter.most_common(20)\n",
    "\n",
    "names = [mc[0] for mc in most_common]\n",
    "x = [i for i in range(len(most_common))]\n",
    "y = [mc[1] for mc in most_common]\n",
    "\n",
    "plt.plot(x, y)\n",
    "\n",
    "plt.xticks(x, names)\n",
    "\n",
    "plt.show()"
   ]
  },
  {
   "cell_type": "code",
   "execution_count": 40,
   "metadata": {},
   "outputs": [
    {
     "data": {
      "image/png": "[encoded data removed]",
      "text/plain": [
       "<Figure size 720x360 with 1 Axes>"
      ]
     },
     "metadata": {
      "needs_background": "light"
     },
     "output_type": "display_data"
    }
   ],
   "source": [
    "fig = plt.figure(figsize=(10, 5))\n",
    "\n",
    "most_common = words_counter.most_common(100)\n",
    "subset_most_common = most_common[80:]\n",
    "\n",
    "names = [mc[0] for mc in subset_most_common]\n",
    "x = [i for i in range(len(subset_most_common))]\n",
    "y = [mc[1] for mc in subset_most_common]\n",
    "\n",
    "plt.plot(x, y)\n",
    "\n",
    "plt.xticks(x, names)\n",
    "\n",
    "plt.show()"
   ]
  },
  {
   "cell_type": "code",
   "execution_count": 35,
   "metadata": {},
   "outputs": [
    {
     "data": {
      "image/png": "[encoded data removed]",
      "text/plain": [
       "<Figure size 720x360 with 1 Axes>"
      ]
     },
     "metadata": {
      "needs_background": "light"
     },
     "output_type": "display_data"
    }
   ],
   "source": [
    "fig = plt.figure(figsize=(10, 5))\n",
    "\n",
    "most_common = tags_counter.most_common(20)\n",
    "\n",
    "names = [mc[0] for mc in most_common]\n",
    "x = [i for i in range(len(most_common))]\n",
    "y = [mc[1] for mc in most_common]\n",
    "\n",
    "plt.plot(x, y)\n",
    "\n",
    "plt.xticks(x, names)\n",
    "\n",
    "plt.show()"
   ]
  },
  {
   "cell_type": "markdown",
   "metadata": {},
   "source": [
    "Проанализируйте данные, с которыми Вы работаете. В частности, ответьте на вопросы:\n",
    "- Каков общий объем датасета, формат?\n",
    "- Приведены ли слова к нижнему регистру? Чем  это нам может в дальнейшем помешать?\n",
    "- Как распределены слова в корпусе?  Как распределены теги в корпусе? Подсчитайте частоты и отобразите любым удобным для Вас способом. Проинтерпретируйте полученные результаты."
   ]
  },
  {
   "cell_type": "code",
   "execution_count": null,
   "metadata": {},
   "outputs": [],
   "source": [
    "# your answers here"
   ]
  },
  {
   "cell_type": "markdown",
   "metadata": {},
   "source": [
    "* 57.340 предложений, 1.161.192 слов (с тегами)\n",
    "* Слова не приведены к нижнему регистру. Может помешать в том плане, что модель, обученная на словах как есть может быть менее надёжной, чем модель, обученная на словах только в нижнем регистре. Хотя для первой модели не обязательно будет делать предобработку текста на стадии предсказания тэгов на новом тексте\n",
    "* Самые частые слова — неинформативные, причём в топе есть одинаковые слова, отличающиеся только регистром. На первые десять слов приходится очень большая часть от общего количества частот. Самые частые теги — существительные и глаголы. Но далее идут знаки препинания и союзы-частицы. И после них прилагательные и наречия"
   ]
  },
  {
   "cell_type": "markdown",
   "metadata": {},
   "source": [
    "Cделайте случайное разбиение выборки на обучение и контроль в отношении 9:1.Если впоследствии обучение моделей будет занимать слишком много времени, работайте с подвыборкой, например, только текстами определенных категорий."
   ]
  },
  {
   "cell_type": "code",
   "execution_count": 51,
   "metadata": {},
   "outputs": [
    {
     "name": "stdout",
     "output_type": "stream",
     "text": [
      "len(train) / len(test):\n",
      "51606 / 5734 = 9.0\n"
     ]
    }
   ],
   "source": [
    "# your code here\n",
    "\n",
    "all_indices = list(range(len(brown_tagged_sents)))\n",
    "\n",
    "train_fraction = 0.9\n",
    "train_indices = np.random.choice(\n",
    "    all_indices, int(len(all_indices) * train_fraction), replace=False\n",
    ")\n",
    "\n",
    "train_sents = [s for i, s in enumerate(brown_tagged_sents) if i in train_indices]\n",
    "test_sents = [s for i, s in enumerate(brown_tagged_sents) if i not in train_indices]\n",
    "\n",
    "print(f'len(train) / len(test):\\n{len(train_sents)} / {len(test_sents)} = {len(train_sents) / len(test_sents)}')"
   ]
  },
  {
   "cell_type": "markdown",
   "metadata": {},
   "source": [
    "## Часть 2. Скрытая марковская модель (4 балла) \n",
    "\n",
    "### Метод максимального правдоподобия для обучения модели\n",
    "\n",
    "Требуется построить скрытую марковскую модель (class HiddenMarkovModel) и написать метод fit для настройки всех её параметров с помощью оценок максимального правдоподобия по размеченным данным (последовательности пар слово+тег):\n",
    "\n",
    "- Вероятности переходов между скрытыми состояниями $p(t_i | t_{i - 1})$ посчитайте на основе частот биграмм POS-тегов.\n",
    "\n",
    "- Вероятности эмиссий наблюдаемых состояний $p(x_i | t_i)$ посчитайте на основе частот \"POS-тег - слово\".\n",
    "\n",
    "- Обратите внимание на проблему разреженности счетчиков и сделаейте все вероятности сглаженными по Лапласу ([add-k smoothing](https://en.wikipedia.org/wiki/Additive_smoothing)).\n",
    "\n",
    "- Распределение вероятностей начальных состояний $p(t_1)$ задайте равномерным.\n",
    "\n",
    "\n",
    "### Алгоритм Витерби для применения модели\n",
    "\n",
    "Требуется написать метод .predict для определения частей речи на тестовой выборке. Чтобы использовать обученную модель на новых данных, необходимо реализовать алгоритм Витерби. \n",
    "\n",
    "В реализации рекомендуется перейти к логарифмам, т.к. произведение большого числа маленьких вероятностей может приводить к вычислительным ошибкам."
   ]
  },
  {
   "cell_type": "code",
   "execution_count": null,
   "metadata": {},
   "outputs": [],
   "source": []
  },
  {
   "cell_type": "markdown",
   "metadata": {},
   "source": [
    "#### Обучение модели\n",
    "\n",
    "* Для обучения параметров $A$ и $B$ используется метод максимума правдоподобия. Оценки вычисляются на основе частот совстречаемости тегов и тегов со словами ():\n",
    "\n",
    "$$a_{ij} = \\frac{\\sum_{t}\\sum_{s=2}^{N_t} \\mathbb{I}[t_{s} = i, t_{s - 1} = j]}{\\sum_{t}\\sum_{s=2}^{N_t} \\mathbb{I}[t_{s} = j]}$$\n",
    "\n",
    "$$b_{ij} = \\frac{\\sum_{t, x}\\sum_{s=1}^{N_t} \\mathbb{I}[x_{s} = i, t_{s} = j]}{\\sum_{t, x}\\sum_{s=1}^{N_t} \\mathbb{I}[t_{s} = j]}$$\n",
    "\n",
    "* Параметры $C$ можно аналогично вычислять по частотам или считать распределение $p(t_1)$ равномерным\n",
    "\n",
    "#### Применение модели\n",
    "\n",
    "Применение модели на новых данных реализуется с помощью алгоритма Витерби.Это алгоритм динамиеского программирования, с помощью которого мы будем находить наиболее вероятную последовательность скрытых состояний модели для фиксированной последовательности слов:\n",
    "\n",
    "$$ \\hat{t} = \\arg \\max_{t} p(t|x) = \\arg \\max_{t} p(x, t) $$\n",
    "\n",
    "Определим функцию, определяющую максимальную вероятность последовательности, заканчивающейся на $i$-ой позиции в состоянии $k$:\n",
    "\n",
    "$$\\delta(k, i) = \\max_{t_1, \\dots t_{i-1}} p(x_1, \\dots x_i, t_1, \\dots t_i=k)$$\n",
    "\n",
    "Тогда $\\max_{k} \\delta(k, N_x)$ - максимальная вероятность всей последовательности. А состояния, на которых эта вероятность достигается - ответ задачи.\n",
    "\n",
    "Алгоритм Витерби заключается в последовательном пересчете функции $\\delta(k, i)$ по формуле:\n",
    "\n",
    "$$\\delta(k, i) = \\max_{m} \\delta(m, i-1) p(t_i = k|t_{i-1} = m) p(x_i|t_i=k) $$\n",
    "\n",
    "Аналогично пересчитывается функция, определяющая, на каком состоянии этот максимум достигается:\n",
    "\n",
    "$$s(k, i) = \\arg \\max_{m} \\delta(m, i-1) p(t_i = k|t_{i-1} = m) p(x_i|t_i=k) $$\n",
    "\n",
    "\n",
    "На практике это означает заполнение двумерных массивов размерности: (длина последовательности) $\\times$ (количество возможных состояний). Когда массивы заполнены, $\\arg \\max_{k} \\delta(k, N_x)$ говорит о последнем состоянии. Начиная с него можно восстановить все состояния по массиву $s$. \n",
    "\n",
    "Осталось уточнить, как стартовать последовательный пересчет (чем заполнить первый столбец массива вероятностей):\n",
    "\n",
    "$$\\delta(k, 1) = p(k) p(x_1|t_1=k)$$\n",
    "\n",
    "Подробнее о HMM можно прочитать по [ссылке](https://web.stanford.edu/~jurafsky/slp3/A.pdf)"
   ]
  },
  {
   "cell_type": "code",
   "execution_count": 142,
   "metadata": {},
   "outputs": [],
   "source": [
    "class HiddenMarkovModel:\n",
    "    def __init__(self, k_smoothing=1.0):\n",
    "        \"\"\"\n",
    "        k_smoothing : float, constant in add-k-smoothing\n",
    "        \"\"\"\n",
    "        self.k_smoothing = k_smoothing\n",
    "        \n",
    "        self.A = None\n",
    "        self.B = None\n",
    "        self.C = None\n",
    "        \n",
    "        self.token2index = None\n",
    "        self.tag2index = None\n",
    "        self.index2tag = None\n",
    "        \n",
    "    def fit(self, train_tokens_tags_list):\n",
    "        \"\"\"\n",
    "        Fit the model using maximum likelihood method.\n",
    "        \n",
    "        train_tokens_tags_list: list of list of pairs (token, tag) \n",
    "        \"\"\"\n",
    "        unique_tokens = list(set([tt[0] for s in train_tokens_tags_list for tt in s]))\n",
    "        unique_tags = list(set([tt[1] for s in train_tokens_tags_list for tt in s]))\n",
    "        \n",
    "        self.A = np.zeros((len(unique_tags), len(unique_tags)))\n",
    "        self.B = np.zeros((len(unique_tokens), len(unique_tags)))\n",
    "        \n",
    "        self.token2index = {w: i for i, w in enumerate(unique_tokens)}\n",
    "        self.tag2index = {t: i for i, t in enumerate(unique_tags)}\n",
    "        self.index2tag = {i: t for i, t in enumerate(unique_tags)}\n",
    "        \n",
    "        self._fill_A(train_tokens_tags_list)\n",
    "        self._fill_B(train_tokens_tags_list)\n",
    "        \n",
    "        self.C = np.ones((len(unique_tags))) / len(unique_tags)\n",
    "    \n",
    "    def predict(self, test_tokens_list):\n",
    "        \"\"\"\n",
    "        Return predictions for test_tokens_list using viterbi algorithm.\n",
    "        \n",
    "        test_tokens_list : list of list of tokens\n",
    "        \n",
    "        return: list of list of tags\n",
    "        \"\"\"\n",
    "        def predict(tokens):\n",
    "            probs = [[0 for _ in range(len(tokens))] for t in self.tag2index]\n",
    "\n",
    "            for t, t_index in self.tag2index.items():\n",
    "                if tokens[0] in self.token2index:\n",
    "                    probs[t_index][0] = np.exp(\n",
    "                        self._log(self.C[t_index]) +\n",
    "                        self._log(self.B[self.token2index[tokens[0]], t_index])\n",
    "                    )\n",
    "                else:\n",
    "                    probs[t_index][0] = np.exp(\n",
    "                        self._log(self.C[t_index]) + 0\n",
    "                    )\n",
    "            \n",
    "            for l in range(1, len(tokens)):\n",
    "                token = tokens[l]\n",
    "                \n",
    "                if token not in self.token2index:  # unknown word\n",
    "                    for t, t_index in self.tag2index.items():\n",
    "                        probs[t_index][l] = 0\n",
    "\n",
    "                    continue\n",
    "\n",
    "                for t, t_index in self.tag2index.items():\n",
    "                    probs[t_index][l] = np.exp(max(\n",
    "                        self._log(probs[m][l - 1]) +\n",
    "                        self._log(self.A[t_index, m]) +\n",
    "                        self._log(self.B[self.token2index[tokens[l]], t_index])\n",
    "                        for m in range(len(self.tag2index))\n",
    "                    ))\n",
    "            \n",
    "            predictions = []\n",
    "            \n",
    "            for token_index in range(len(tokens)):\n",
    "                tag_index = np.argmax([probs[j][token_index] for j in range(len(self.tag2index))])\n",
    "                tag = self.index2tag[tag_index]\n",
    "                \n",
    "                predictions.append(tag)\n",
    "            \n",
    "            return predictions\n",
    "    \n",
    "        result = []\n",
    "        \n",
    "        for tokens in test_tokens_list:\n",
    "            result.append(predict(tokens))\n",
    "        \n",
    "        return result\n",
    "\n",
    "    def _fill_A(self, train_tokens_tags_list):\n",
    "        def compute_value_for_cell(i, t_i, j, t_j):\n",
    "            numerator = 0.0\n",
    "            denominator = 0.0\n",
    "            \n",
    "            for s in train_tokens_tags_list:\n",
    "                tags = [tt[1] for tt in s]\n",
    "                \n",
    "                for t1, t2 in zip(tags[:-1], tags[1:]):\n",
    "                    numerator   += 1 * (t2 == t_i and t1 == t_j)\n",
    "                    denominator += 1 * (              t1 == t_j)\n",
    "            \n",
    "            return (\n",
    "                (numerator + self.k_smoothing) /\n",
    "                (max(denominator, 1) + self.A.shape[0] * self.k_smoothing)\n",
    "            )\n",
    "\n",
    "        for t_i, i in self.tag2index.items():\n",
    "            for t_j, j in self.tag2index.items():\n",
    "                self.A[i, j] = compute_value_for_cell(i, t_i, j, t_j)\n",
    "    \n",
    "    def _fill_B(self, train_tokens_tags_list):\n",
    "        def compute_value_for_cell(i, tok_i, j, t_j):\n",
    "            numerator = 0.0\n",
    "            denominator = 0.0\n",
    "            \n",
    "            for s in train_tokens_tags_list:\n",
    "                tokens = [tt[0] for tt in s]\n",
    "                tags = [tt[1] for tt in s]\n",
    "                \n",
    "                for tok, t in zip(tokens, tags):\n",
    "                    numerator   += 1 * (tok == tok_i and t == t_j)\n",
    "                    denominator += 1 * (                 t == t_j)\n",
    "            \n",
    "            return (\n",
    "                (numerator + self.k_smoothing) /\n",
    "                (max(denominator, 1) + self.B.shape[0] * self.k_smoothing)\n",
    "            )\n",
    "\n",
    "        for tok_i, i in self.token2index.items():\n",
    "            for t_j, j in self.tag2index.items():\n",
    "                self.B[i, j] = compute_value_for_cell(i, tok_i, j, t_j)\n",
    "    \n",
    "    def _log(self, value):\n",
    "        if value == 0:\n",
    "            return 0\n",
    "\n",
    "        return np.log(value)"
   ]
  },
  {
   "cell_type": "markdown",
   "metadata": {},
   "source": [
    "Обучите скрытую марковскую модель:"
   ]
  },
  {
   "cell_type": "code",
   "execution_count": 145,
   "metadata": {},
   "outputs": [],
   "source": [
    "# your code here\n",
    "\n",
    "hmm = HiddenMarkovModel(k_smoothing=1.0)\n",
    "\n",
    "hmm.fit(train_sents[:100])"
   ]
  },
  {
   "cell_type": "code",
   "execution_count": 146,
   "metadata": {},
   "outputs": [
    {
     "data": {
      "text/plain": [
       "array([[0.01492537, 0.00996678, 0.01232877, 0.01886792, 0.03759398,\n",
       "        0.05494505, 0.02666667, 0.01449275, 0.07142857, 0.04      ,\n",
       "        0.00787402],\n",
       "       [0.05970149, 0.01328904, 0.02054795, 0.03773585, 0.18045113,\n",
       "        0.2032967 , 0.09333333, 0.04347826, 0.16071429, 0.41454545,\n",
       "        0.01574803],\n",
       "       [0.01492537, 0.7076412 , 0.27808219, 0.28301887, 0.12030075,\n",
       "        0.14285714, 0.02666667, 0.01449275, 0.32142857, 0.30909091,\n",
       "        0.7480315 ],\n",
       "       [0.01492537, 0.01328904, 0.01780822, 0.05660377, 0.01253133,\n",
       "        0.03846154, 0.01333333, 0.01449275, 0.03571429, 0.05454545,\n",
       "        0.00787402],\n",
       "       [0.65671642, 0.06312292, 0.17260274, 0.01886792, 0.22807018,\n",
       "        0.12637363, 0.36      , 0.66666667, 0.17857143, 0.04363636,\n",
       "        0.00787402],\n",
       "       [0.08955224, 0.00996678, 0.20547945, 0.26415094, 0.0726817 ,\n",
       "        0.15934066, 0.13333333, 0.05797101, 0.03571429, 0.01818182,\n",
       "        0.07086614],\n",
       "       [0.04477612, 0.00996678, 0.01643836, 0.01886792, 0.0726817 ,\n",
       "        0.04395604, 0.06666667, 0.05797101, 0.03571429, 0.01090909,\n",
       "        0.00787402],\n",
       "       [0.04477612, 0.00332226, 0.03150685, 0.01886792, 0.05764411,\n",
       "        0.03296703, 0.04      , 0.01449275, 0.01785714, 0.01090909,\n",
       "        0.03149606],\n",
       "       [0.01492537, 0.00332226, 0.03561644, 0.03773585, 0.01503759,\n",
       "        0.05494505, 0.02666667, 0.01449275, 0.01785714, 0.00363636,\n",
       "        0.02362205],\n",
       "       [0.02985075, 0.00996678, 0.19452055, 0.13207547, 0.160401  ,\n",
       "        0.10989011, 0.13333333, 0.08695652, 0.05357143, 0.02545455,\n",
       "        0.01574803],\n",
       "       [0.01492537, 0.15614618, 0.01506849, 0.11320755, 0.04260652,\n",
       "        0.03296703, 0.08      , 0.01449275, 0.07142857, 0.06909091,\n",
       "        0.06299213]])"
      ]
     },
     "execution_count": 146,
     "metadata": {},
     "output_type": "execute_result"
    }
   ],
   "source": [
    "hmm.A"
   ]
  },
  {
   "cell_type": "code",
   "execution_count": 147,
   "metadata": {},
   "outputs": [
    {
     "data": {
      "text/plain": [
       "array([[0.00104384, 0.00083893, 0.00184615, ..., 0.00105597, 0.00085763,\n",
       "        0.00098232],\n",
       "       [0.00104384, 0.00083893, 0.00061538, ..., 0.00105597, 0.00085763,\n",
       "        0.00196464],\n",
       "       [0.00104384, 0.00083893, 0.00123077, ..., 0.00105597, 0.00085763,\n",
       "        0.00098232],\n",
       "       ...,\n",
       "       [0.00104384, 0.00083893, 0.00061538, ..., 0.00105597, 0.00085763,\n",
       "        0.00098232],\n",
       "       [0.00104384, 0.04530201, 0.00061538, ..., 0.00105597, 0.00085763,\n",
       "        0.00098232],\n",
       "       [0.00104384, 0.00083893, 0.00184615, ..., 0.00105597, 0.00085763,\n",
       "        0.00098232]])"
      ]
     },
     "execution_count": 147,
     "metadata": {},
     "output_type": "execute_result"
    }
   ],
   "source": [
    "hmm.B"
   ]
  },
  {
   "cell_type": "code",
   "execution_count": 148,
   "metadata": {},
   "outputs": [],
   "source": [
    "pred = hmm.predict(brown.sents()[:10])"
   ]
  },
  {
   "cell_type": "code",
   "execution_count": 149,
   "metadata": {},
   "outputs": [
    {
     "data": {
      "text/plain": [
       "[['DET',\n",
       "  'NOUN',\n",
       "  'NOUN',\n",
       "  'PRON',\n",
       "  'PRON',\n",
       "  'VERB',\n",
       "  'NOUN',\n",
       "  'DET',\n",
       "  'PRON',\n",
       "  'ADP',\n",
       "  'NOUN',\n",
       "  'PRON',\n",
       "  'NOUN',\n",
       "  'NOUN',\n",
       "  'PRON',\n",
       "  '.',\n",
       "  'DET',\n",
       "  'PRON',\n",
       "  '.',\n",
       "  'ADP',\n",
       "  'PRON',\n",
       "  'NOUN',\n",
       "  'VERB',\n",
       "  'VERB',\n",
       "  '.'],\n",
       " ['DET',\n",
       "  'NOUN',\n",
       "  '.',\n",
       "  'VERB',\n",
       "  'ADP',\n",
       "  'NOUN',\n",
       "  'NOUN',\n",
       "  'ADP',\n",
       "  'DET',\n",
       "  'NOUN',\n",
       "  '.',\n",
       "  'NOUN',\n",
       "  '.',\n",
       "  'DET',\n",
       "  'NOUN',\n",
       "  '.',\n",
       "  'NOUN',\n",
       "  'ADP',\n",
       "  'DET',\n",
       "  'NOUN',\n",
       "  '.',\n",
       "  '.',\n",
       "  'VERB',\n",
       "  'DET',\n",
       "  'NOUN',\n",
       "  'CONJ',\n",
       "  'NOUN',\n",
       "  'ADP',\n",
       "  'DET',\n",
       "  'NOUN',\n",
       "  'ADP',\n",
       "  'NOUN',\n",
       "  '.',\n",
       "  'ADP',\n",
       "  'DET',\n",
       "  'NOUN',\n",
       "  'ADP',\n",
       "  'DET',\n",
       "  'DET',\n",
       "  'NOUN',\n",
       "  'VERB',\n",
       "  'VERB',\n",
       "  '.'],\n",
       " ['DET',\n",
       "  'NOUN',\n",
       "  'NOUN',\n",
       "  'NOUN',\n",
       "  'VERB',\n",
       "  'VERB',\n",
       "  'VERB',\n",
       "  'ADP',\n",
       "  'NOUN',\n",
       "  '.',\n",
       "  'NOUN',\n",
       "  'NOUN',\n",
       "  'NOUN',\n",
       "  'NOUN',\n",
       "  'ADP',\n",
       "  'VERB',\n",
       "  'NOUN',\n",
       "  'ADP',\n",
       "  'DET',\n",
       "  '.',\n",
       "  'NOUN',\n",
       "  '.',\n",
       "  'ADP',\n",
       "  'DET',\n",
       "  'NOUN',\n",
       "  'NOUN',\n",
       "  'DET',\n",
       "  'VERB',\n",
       "  'VERB',\n",
       "  'ADP',\n",
       "  'NOUN',\n",
       "  'NOUN',\n",
       "  'NOUN',\n",
       "  'NOUN',\n",
       "  '.'],\n",
       " ['.',\n",
       "  'DET',\n",
       "  'DET',\n",
       "  'NOUN',\n",
       "  'NOUN',\n",
       "  'ADP',\n",
       "  'DET',\n",
       "  'NOUN',\n",
       "  'VERB',\n",
       "  'VERB',\n",
       "  '.',\n",
       "  '.',\n",
       "  'DET',\n",
       "  'NOUN',\n",
       "  'VERB',\n",
       "  '.',\n",
       "  '.',\n",
       "  'ADP',\n",
       "  'DET',\n",
       "  'NOUN',\n",
       "  'NOUN',\n",
       "  'ADP',\n",
       "  'DET',\n",
       "  'NOUN',\n",
       "  '.',\n",
       "  'DET',\n",
       "  'NOUN',\n",
       "  'ADP',\n",
       "  'NOUN',\n",
       "  'CONJ',\n",
       "  'DET',\n",
       "  'NOUN',\n",
       "  'ADP',\n",
       "  'DET',\n",
       "  'NOUN',\n",
       "  '.',\n",
       "  '.'],\n",
       " ['DET',\n",
       "  'NOUN',\n",
       "  'VERB',\n",
       "  'PRON',\n",
       "  'VERB',\n",
       "  'PRON',\n",
       "  'ADP',\n",
       "  'DET',\n",
       "  'ADP',\n",
       "  'NOUN',\n",
       "  'PRON',\n",
       "  'CONJ',\n",
       "  'NOUN',\n",
       "  'NOUN',\n",
       "  '.',\n",
       "  'VERB',\n",
       "  'PRON',\n",
       "  'VERB',\n",
       "  'PRON',\n",
       "  'CONJ',\n",
       "  'PRON',\n",
       "  'PRON',\n",
       "  '.',\n",
       "  '.'],\n",
       " ['PRON',\n",
       "  'VERB',\n",
       "  'ADP',\n",
       "  'NOUN',\n",
       "  'NOUN',\n",
       "  'NOUN',\n",
       "  '.',\n",
       "  'ADP',\n",
       "  'VERB',\n",
       "  'DET',\n",
       "  'NOUN',\n",
       "  'VERB',\n",
       "  'CONJ',\n",
       "  'VERB',\n",
       "  'PRT',\n",
       "  'DET',\n",
       "  'NOUN',\n",
       "  'ADP',\n",
       "  'DET',\n",
       "  'CONJ',\n",
       "  'VERB',\n",
       "  'NOUN',\n",
       "  '.',\n",
       "  '.'],\n",
       " ['DET',\n",
       "  'ADJ',\n",
       "  'NOUN',\n",
       "  'VERB',\n",
       "  'ADP',\n",
       "  'DET',\n",
       "  'NOUN',\n",
       "  'ADP',\n",
       "  'DET',\n",
       "  'NOUN',\n",
       "  '.',\n",
       "  'ADP',\n",
       "  'NOUN',\n",
       "  'DET',\n",
       "  'NOUN',\n",
       "  'CONJ',\n",
       "  'NOUN',\n",
       "  'NOUN',\n",
       "  'VERB',\n",
       "  'NOUN',\n",
       "  'DET',\n",
       "  'NOUN',\n",
       "  'VERB',\n",
       "  '.',\n",
       "  'VERB',\n",
       "  'VERB',\n",
       "  'VERB',\n",
       "  'CONJ',\n",
       "  'VERB',\n",
       "  'VERB',\n",
       "  'VERB',\n",
       "  'NOUN',\n",
       "  'DET',\n",
       "  'NOUN',\n",
       "  'ADP',\n",
       "  'DET',\n",
       "  'NOUN',\n",
       "  'NOUN',\n",
       "  'ADP',\n",
       "  'DET',\n",
       "  'NOUN',\n",
       "  '.',\n",
       "  '.'],\n",
       " ['NOUN', 'VERB'],\n",
       " ['ADV',\n",
       "  '.',\n",
       "  'DET',\n",
       "  'NOUN',\n",
       "  'VERB',\n",
       "  'PRON',\n",
       "  'VERB',\n",
       "  '.',\n",
       "  'DET',\n",
       "  'NOUN',\n",
       "  'NOUN',\n",
       "  'VERB',\n",
       "  'VERB',\n",
       "  'VERB',\n",
       "  'PRT',\n",
       "  'VERB',\n",
       "  'VERB',\n",
       "  'NOUN',\n",
       "  'CONJ',\n",
       "  'VERB',\n",
       "  'DET',\n",
       "  'NOUN',\n",
       "  'ADP',\n",
       "  'NOUN',\n",
       "  '.',\n",
       "  '.'],\n",
       " ['DET',\n",
       "  'NOUN',\n",
       "  'VERB',\n",
       "  'NOUN',\n",
       "  '.',\n",
       "  'DET',\n",
       "  'NOUN',\n",
       "  'VERB',\n",
       "  '.',\n",
       "  '.',\n",
       "  'VERB',\n",
       "  'VERB',\n",
       "  'ADP',\n",
       "  'DET',\n",
       "  'NOUN',\n",
       "  'NOUN',\n",
       "  'ADP',\n",
       "  'DET',\n",
       "  'NOUN',\n",
       "  'ADP',\n",
       "  'NOUN',\n",
       "  'NOUN',\n",
       "  'NOUN',\n",
       "  '.',\n",
       "  '.']]"
      ]
     },
     "execution_count": 149,
     "metadata": {},
     "output_type": "execute_result"
    }
   ],
   "source": [
    "pred[:20]"
   ]
  },
  {
   "cell_type": "markdown",
   "metadata": {},
   "source": [
    "Проверьте работу реализованного алгоритма на следующих модельных примерах, проинтерпретируйте результат.\n",
    "\n",
    "- 'he can stay'\n",
    "- 'a milk can'\n",
    "- 'i saw a dog'\n",
    "- 'an old saw'"
   ]
  },
  {
   "cell_type": "code",
   "execution_count": null,
   "metadata": {},
   "outputs": [],
   "source": [
    "# your code here"
   ]
  },
  {
   "cell_type": "code",
   "execution_count": 150,
   "metadata": {},
   "outputs": [
    {
     "data": {
      "text/plain": [
       "[['PRON', 'VERB', 'PRON'],\n",
       " ['DET', 'PRON', 'VERB'],\n",
       " ['PRON', 'VERB', 'DET', 'PRON'],\n",
       " ['DET', 'NOUN', 'VERB']]"
      ]
     },
     "execution_count": 150,
     "metadata": {},
     "output_type": "execute_result"
    }
   ],
   "source": [
    "hmm.predict([\n",
    "    'he can stay'.split(),\n",
    "    'a milk can'.split(),\n",
    "    'i saw a dog'.split(),\n",
    "    'an old saw'.split()\n",
    "])"
   ]
  },
  {
   "cell_type": "markdown",
   "metadata": {},
   "source": [
    "Примените модель к отложенной выборке Брауновского корпуса и подсчитайте точность определения тегов (accuracy). Сделайте выводы. "
   ]
  },
  {
   "cell_type": "code",
   "execution_count": 152,
   "metadata": {},
   "outputs": [],
   "source": [
    "test_sents_words = [[wt[0] for wt in s] for s in test_sents]\n",
    "test_sents_tags  = [[wt[1] for wt in s] for s in test_sents]"
   ]
  },
  {
   "cell_type": "code",
   "execution_count": 154,
   "metadata": {},
   "outputs": [],
   "source": [
    "prediction = hmm.predict(test_sents_words)"
   ]
  },
  {
   "cell_type": "code",
   "execution_count": 155,
   "metadata": {},
   "outputs": [],
   "source": [
    "accuracy = (\n",
    "    sum(sum(1 * (tt == pt) for tt, pt in zip(true_tags, pred_tags))\n",
    "        for true_tags, pred_tags in zip(test_sents_tags, prediction)\n",
    "    ) /\n",
    "    sum(len(s) for s in test_sents_words)\n",
    ")"
   ]
  },
  {
   "cell_type": "code",
   "execution_count": 156,
   "metadata": {},
   "outputs": [
    {
     "name": "stdout",
     "output_type": "stream",
     "text": [
      "0.4931336697733807\n"
     ]
    }
   ],
   "source": [
    "print(accuracy)"
   ]
  },
  {
   "cell_type": "code",
   "execution_count": 162,
   "metadata": {},
   "outputs": [],
   "source": [
    "def compute_accuracy(true_tags, pred_tags):\n",
    "    return (\n",
    "        sum(sum(1 * (tt == pt) for tt, pt in zip(true_tags, pred_tags))\n",
    "            for true_tags, pred_tags in zip(true_tags, pred_tags)\n",
    "        ) /\n",
    "        sum(len(s) for s in true_tags)\n",
    "    )"
   ]
  },
  {
   "cell_type": "markdown",
   "metadata": {},
   "source": [
    "## Бонусная часть. Сравнение с готовыми POS-теггерами из NLTK (2 балла)"
   ]
  },
  {
   "cell_type": "markdown",
   "metadata": {},
   "source": [
    "В прошлом пункте Вы реализовали свой POS-тегер на основе скрытой марковской модели. Теперь сравните его работу с готовыми средставми, доступными в библиотеке NLTK: http://www.nltk.org/api/nltk.tag.html\n",
    "\n",
    "Сравните с вашей моделью любые из 4-х теггеров, представленных ниже."
   ]
  },
  {
   "cell_type": "markdown",
   "metadata": {},
   "source": [
    "При проведении экспериментов обращайте внимание на следующие моменты (и отразите их в отчете):\n",
    "- Какой подход лежит в основе теггера\n",
    "- На каких данных он обучен (если Вы скачали готовую модель)\n",
    "- Сколько времени занимает обучение на brown корпусе (если обучаете сами)\n",
    "- Какая точность получается на контролькой выборке\n",
    "\n",
    "Сформируйте рекоммендиции о том, какую технологию Вы бы использовали, если встретитесь с задачей определения частей речи в будущем."
   ]
  },
  {
   "cell_type": "code",
   "execution_count": 158,
   "metadata": {},
   "outputs": [],
   "source": [
    "import nltk\n",
    "from nltk.tag.mapping import map_tag"
   ]
  },
  {
   "cell_type": "markdown",
   "metadata": {},
   "source": [
    "### 1. DefaultTagger\n",
    "Простая заглушка, ставящая всем словам один и тот же pos-тег. Очевидно, для максимизации качества, мы хотим выбрать самую частотную метку из всех меток обучающей выборки, т.е. метку 'NOUN'."
   ]
  },
  {
   "cell_type": "code",
   "execution_count": 159,
   "metadata": {},
   "outputs": [],
   "source": [
    "from nltk.tag import DefaultTagger\n",
    "default_tagger = DefaultTagger(u'NOUN')\n",
    "\n",
    "# your code here"
   ]
  },
  {
   "cell_type": "code",
   "execution_count": 161,
   "metadata": {},
   "outputs": [],
   "source": [
    "prediction_default = default_tagger.tag_sents(test_sents_words)"
   ]
  },
  {
   "cell_type": "code",
   "execution_count": 166,
   "metadata": {},
   "outputs": [
    {
     "data": {
      "text/plain": [
       "[('The', 'NOUN'),\n",
       " ('Fulton', 'NOUN'),\n",
       " ('County', 'NOUN'),\n",
       " ('Grand', 'NOUN'),\n",
       " ('Jury', 'NOUN'),\n",
       " ('said', 'NOUN'),\n",
       " ('Friday', 'NOUN'),\n",
       " ('an', 'NOUN'),\n",
       " ('investigation', 'NOUN'),\n",
       " ('of', 'NOUN'),\n",
       " (\"Atlanta's\", 'NOUN'),\n",
       " ('recent', 'NOUN'),\n",
       " ('primary', 'NOUN'),\n",
       " ('election', 'NOUN'),\n",
       " ('produced', 'NOUN'),\n",
       " ('``', 'NOUN'),\n",
       " ('no', 'NOUN'),\n",
       " ('evidence', 'NOUN'),\n",
       " (\"''\", 'NOUN'),\n",
       " ('that', 'NOUN'),\n",
       " ('any', 'NOUN'),\n",
       " ('irregularities', 'NOUN'),\n",
       " ('took', 'NOUN'),\n",
       " ('place', 'NOUN'),\n",
       " ('.', 'NOUN')]"
      ]
     },
     "execution_count": 166,
     "metadata": {},
     "output_type": "execute_result"
    }
   ],
   "source": [
    "prediction_default[0]"
   ]
  },
  {
   "cell_type": "code",
   "execution_count": 167,
   "metadata": {},
   "outputs": [],
   "source": [
    "prediction_default = [[wt[1] for wt in s] for s in prediction_default]"
   ]
  },
  {
   "cell_type": "code",
   "execution_count": 168,
   "metadata": {},
   "outputs": [
    {
     "data": {
      "text/plain": [
       "['NOUN',\n",
       " 'NOUN',\n",
       " 'NOUN',\n",
       " 'NOUN',\n",
       " 'NOUN',\n",
       " 'NOUN',\n",
       " 'NOUN',\n",
       " 'NOUN',\n",
       " 'NOUN',\n",
       " 'NOUN',\n",
       " 'NOUN',\n",
       " 'NOUN',\n",
       " 'NOUN',\n",
       " 'NOUN',\n",
       " 'NOUN',\n",
       " 'NOUN',\n",
       " 'NOUN',\n",
       " 'NOUN',\n",
       " 'NOUN',\n",
       " 'NOUN',\n",
       " 'NOUN',\n",
       " 'NOUN',\n",
       " 'NOUN',\n",
       " 'NOUN']"
      ]
     },
     "execution_count": 168,
     "metadata": {},
     "output_type": "execute_result"
    }
   ],
   "source": [
    "prediction_default[1]"
   ]
  },
  {
   "cell_type": "code",
   "execution_count": 169,
   "metadata": {},
   "outputs": [
    {
     "data": {
      "text/plain": [
       "0.23718154733468258"
      ]
     },
     "execution_count": 169,
     "metadata": {},
     "output_type": "execute_result"
    }
   ],
   "source": [
    "compute_accuracy(test_sents_tags, prediction_default)"
   ]
  },
  {
   "cell_type": "markdown",
   "metadata": {},
   "source": [
    "### 2. RegexpTagger\n",
    "\n",
    "Теггер, который присваивает слову часть речи, основываясь на регулярных выражениях. Например, ставить слову метку 'NOUN', если слово кончается на 'ness'. Ниже приведен простой пример возможных правил. В качестве backoff теггера использован DefaultTagger.\n",
    "\n"
   ]
  },
  {
   "cell_type": "code",
   "execution_count": 170,
   "metadata": {},
   "outputs": [],
   "source": [
    "from nltk.tag import RegexpTagger\n",
    "\n",
    "regexp_tagger = RegexpTagger(regexps=[(r'^-?[0-9]+(.[0-9]+)?$', 'CD'),   # cardinal numbers\n",
    "                                      (r'(The|the|A|a|An|an)$', 'AT'),   # articles\n",
    "                                      (r'.*able$', 'JJ'),                # adjectives\n",
    "                                      (r'.*ness$', 'NN'),                # nouns formed from adjectives\n",
    "                                      (r'.*ly$', 'RB'),                  # adverbs\n",
    "                                      (r'.*s$', 'NNS'),                  # plural nouns\n",
    "                                      (r'.*ing$', 'VBG'),                # gerunds\n",
    "                                      (r'.*ed$', 'VBD'),                 # past tense verbs\n",
    "                                      (r'.*', 'NN')                      # nouns (default)\n",
    "                                     ],\n",
    "                             backoff=default_tagger)\n",
    "\n",
    "# your code here\n",
    "# use map_tag() to tranform 'en-ptb' to 'universal' tags."
   ]
  },
  {
   "cell_type": "code",
   "execution_count": 171,
   "metadata": {},
   "outputs": [],
   "source": [
    "prediction_regexp = regexp_tagger.tag_sents(test_sents_words)"
   ]
  },
  {
   "cell_type": "code",
   "execution_count": 172,
   "metadata": {},
   "outputs": [
    {
     "data": {
      "text/plain": [
       "[('The', 'AT'),\n",
       " ('Fulton', 'NN'),\n",
       " ('County', 'NN'),\n",
       " ('Grand', 'NN'),\n",
       " ('Jury', 'NN'),\n",
       " ('said', 'NN'),\n",
       " ('Friday', 'NN'),\n",
       " ('an', 'AT'),\n",
       " ('investigation', 'NN'),\n",
       " ('of', 'NN'),\n",
       " (\"Atlanta's\", 'NNS'),\n",
       " ('recent', 'NN'),\n",
       " ('primary', 'NN'),\n",
       " ('election', 'NN'),\n",
       " ('produced', 'VBD'),\n",
       " ('``', 'NN'),\n",
       " ('no', 'NN'),\n",
       " ('evidence', 'NN'),\n",
       " (\"''\", 'NN'),\n",
       " ('that', 'NN'),\n",
       " ('any', 'NN'),\n",
       " ('irregularities', 'NNS'),\n",
       " ('took', 'NN'),\n",
       " ('place', 'NN'),\n",
       " ('.', 'NN')]"
      ]
     },
     "execution_count": 172,
     "metadata": {},
     "output_type": "execute_result"
    }
   ],
   "source": [
    "prediction_regexp[0]"
   ]
  },
  {
   "cell_type": "code",
   "execution_count": 173,
   "metadata": {},
   "outputs": [],
   "source": [
    "prediction_regexp = [[wt[1] for wt in s] for s in prediction_regexp]"
   ]
  },
  {
   "cell_type": "code",
   "execution_count": 174,
   "metadata": {},
   "outputs": [
    {
     "data": {
      "text/plain": [
       "['AT',\n",
       " 'NN',\n",
       " 'NN',\n",
       " 'NN',\n",
       " 'NN',\n",
       " 'NN',\n",
       " 'NN',\n",
       " 'AT',\n",
       " 'NN',\n",
       " 'NN',\n",
       " 'NNS',\n",
       " 'NN',\n",
       " 'NN',\n",
       " 'NN',\n",
       " 'VBD',\n",
       " 'NN',\n",
       " 'NN',\n",
       " 'NN',\n",
       " 'NN',\n",
       " 'NN',\n",
       " 'NN',\n",
       " 'NNS',\n",
       " 'NN',\n",
       " 'NN',\n",
       " 'NN']"
      ]
     },
     "execution_count": 174,
     "metadata": {},
     "output_type": "execute_result"
    }
   ],
   "source": [
    "prediction_regexp[0]"
   ]
  },
  {
   "cell_type": "code",
   "execution_count": 175,
   "metadata": {},
   "outputs": [],
   "source": [
    "prediction_regexp = [[map_tag('en-ptb', 'universal', t) for t in s] for s in prediction_regexp]"
   ]
  },
  {
   "cell_type": "code",
   "execution_count": 176,
   "metadata": {},
   "outputs": [
    {
     "data": {
      "text/plain": [
       "['X',\n",
       " 'NOUN',\n",
       " 'NOUN',\n",
       " 'NOUN',\n",
       " 'NOUN',\n",
       " 'NOUN',\n",
       " 'NOUN',\n",
       " 'X',\n",
       " 'NOUN',\n",
       " 'NOUN',\n",
       " 'NOUN',\n",
       " 'NOUN',\n",
       " 'NOUN',\n",
       " 'NOUN',\n",
       " 'VERB',\n",
       " 'NOUN',\n",
       " 'NOUN',\n",
       " 'NOUN',\n",
       " 'NOUN',\n",
       " 'NOUN',\n",
       " 'NOUN',\n",
       " 'NOUN',\n",
       " 'NOUN',\n",
       " 'NOUN',\n",
       " 'NOUN']"
      ]
     },
     "execution_count": 176,
     "metadata": {},
     "output_type": "execute_result"
    }
   ],
   "source": [
    "prediction_regexp[0]"
   ]
  },
  {
   "cell_type": "code",
   "execution_count": 177,
   "metadata": {},
   "outputs": [
    {
     "data": {
      "text/plain": [
       "0.3016407966853996"
      ]
     },
     "execution_count": 177,
     "metadata": {},
     "output_type": "execute_result"
    }
   ],
   "source": [
    "compute_accuracy(test_sents_tags, prediction_regexp)"
   ]
  },
  {
   "cell_type": "markdown",
   "metadata": {},
   "source": [
    "### 3. N-грамные теггеры\n",
    "\n",
    "В теггерах, основанных на n-граммах,  принятие решения происходит в зависимости от $n-1$ предыдущих слов и их тегов. Эти теггеры необходимо обучать по размеченной обучающей коллекции. \n",
    "\n",
    "Заметим, что TrigramTagger и BigramTagger работают очень плохо без указания backoff. Поэтому предлагается построить композицию, где \n",
    "в качестве backoff для UnigramTagger использовать DefaultTagger, для BigramTagger использовать UnigramTagger, для TrigramTagger  использовать BigramTagger. "
   ]
  },
  {
   "cell_type": "code",
   "execution_count": 178,
   "metadata": {},
   "outputs": [],
   "source": [
    "from nltk.tag import UnigramTagger\n",
    "from nltk.tag import BigramTagger\n",
    "from nltk.tag import TrigramTagger\n",
    "\n",
    "# your code here"
   ]
  },
  {
   "cell_type": "code",
   "execution_count": 180,
   "metadata": {},
   "outputs": [],
   "source": [
    "uni = UnigramTagger(train_sents, backoff=default_tagger)\n",
    "bi = BigramTagger(train_sents, backoff=uni)\n",
    "tri = TrigramTagger(train_sents, backoff=bi)"
   ]
  },
  {
   "cell_type": "code",
   "execution_count": 181,
   "metadata": {},
   "outputs": [],
   "source": [
    "prediction_ngram = tri.tag_sents(test_sents_words)"
   ]
  },
  {
   "cell_type": "code",
   "execution_count": 182,
   "metadata": {},
   "outputs": [
    {
     "data": {
      "text/plain": [
       "[('The', 'DET'),\n",
       " ('Fulton', 'NOUN'),\n",
       " ('County', 'NOUN'),\n",
       " ('Grand', 'X'),\n",
       " ('Jury', 'NOUN'),\n",
       " ('said', 'VERB'),\n",
       " ('Friday', 'NOUN'),\n",
       " ('an', 'DET'),\n",
       " ('investigation', 'NOUN'),\n",
       " ('of', 'ADP'),\n",
       " (\"Atlanta's\", 'NOUN'),\n",
       " ('recent', 'ADJ'),\n",
       " ('primary', 'NOUN'),\n",
       " ('election', 'NOUN'),\n",
       " ('produced', 'VERB'),\n",
       " ('``', '.'),\n",
       " ('no', 'DET'),\n",
       " ('evidence', 'NOUN'),\n",
       " (\"''\", '.'),\n",
       " ('that', 'ADP'),\n",
       " ('any', 'DET'),\n",
       " ('irregularities', 'NOUN'),\n",
       " ('took', 'VERB'),\n",
       " ('place', 'NOUN'),\n",
       " ('.', '.')]"
      ]
     },
     "execution_count": 182,
     "metadata": {},
     "output_type": "execute_result"
    }
   ],
   "source": [
    "prediction_ngram[0]"
   ]
  },
  {
   "cell_type": "code",
   "execution_count": 183,
   "metadata": {},
   "outputs": [],
   "source": [
    "prediction_ngram = [[wt[1] for wt in s] for s in prediction_ngram]"
   ]
  },
  {
   "cell_type": "code",
   "execution_count": 184,
   "metadata": {},
   "outputs": [
    {
     "data": {
      "text/plain": [
       "0.9525393695657839"
      ]
     },
     "execution_count": 184,
     "metadata": {},
     "output_type": "execute_result"
    }
   ],
   "source": [
    "compute_accuracy(test_sents_tags, prediction_ngram)"
   ]
  },
  {
   "cell_type": "markdown",
   "metadata": {},
   "source": [
    "### 4. Stanford tagger\n",
    "\n",
    "Скачайте предобученную модель от Стэнфорда: https://nlp.stanford.edu/software/tagger.shtml и примените к тестовым данным. \n",
    "Не забудьте преобразовать систему тэгов из 'en-ptb' в 'universal' с помощью функции map_tag."
   ]
  },
  {
   "cell_type": "code",
   "execution_count": null,
   "metadata": {},
   "outputs": [],
   "source": [
    "from nltk.tag.stanford import StanfordPOSTagger\n",
    "\n",
    "# Add the jar and model via their path:\n",
    "jar = 'you_path_here/stanford-postagger-3.9.1.jar'\n",
    "model = 'your_path_here/models/english-bidirectional-distsim.tagger'\n",
    "stanford_tagger = StanfordPOSTagger(model, jar, encoding='utf8')\n",
    "\n",
    "# your code here"
   ]
  },
  {
   "cell_type": "markdown",
   "metadata": {},
   "source": [
    "### 5. Теггеры из NLTK на основе графических моделей\n",
    "\n",
    "Обучите теггер, основанный на HMM или CRF, на основе класса из nltk."
   ]
  },
  {
   "cell_type": "code",
   "execution_count": 185,
   "metadata": {},
   "outputs": [],
   "source": [
    "from nltk.tag import HiddenMarkovModelTagger, CRFTagger\n",
    "\n",
    "# your code here"
   ]
  },
  {
   "cell_type": "markdown",
   "metadata": {},
   "source": [
    "### Сравнение моделей\n",
    "\n",
    "Сравните различные модели по качеству, сделайте выводы."
   ]
  },
  {
   "cell_type": "code",
   "execution_count": null,
   "metadata": {},
   "outputs": [],
   "source": [
    "# your code here"
   ]
  },
  {
   "cell_type": "markdown",
   "metadata": {},
   "source": [
    "N-граммные обучались дольше других, но качество лучше.\n",
    "Defaul не очень, но как бейзлайн ок"
   ]
  },
  {
   "cell_type": "code",
   "execution_count": null,
   "metadata": {},
   "outputs": [],
   "source": []
  }
 ],
 "metadata": {
  "kernelspec": {
   "display_name": "Python 3",
   "language": "python",
   "name": "python3"
  },
  "language_info": {
   "codemirror_mode": {
    "name": "ipython",
    "version": 3
   },
   "file_extension": ".py",
   "mimetype": "text/x-python",
   "name": "python",
   "nbconvert_exporter": "python",
   "pygments_lexer": "ipython3",
   "version": "3.6.8"
  }
 },
 "nbformat": 4,
 "nbformat_minor": 1
}
