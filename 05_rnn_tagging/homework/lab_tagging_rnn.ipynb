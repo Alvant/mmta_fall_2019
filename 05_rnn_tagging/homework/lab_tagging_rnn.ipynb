{
 "cells": [
  {
   "cell_type": "markdown",
   "metadata": {
    "collapsed": true
   },
   "source": [
    "# Практическое задание 2 (часть 2)\n",
    "\n",
    "# Распознавание именованных сущностей из Twitter с помощью LSTM\n",
    "\n",
    "## курс \"Математические методы анализа текстов\"\n",
    "\n",
    "\n",
    "### ФИО: Алексеев Василий"
   ]
  },
  {
   "cell_type": "markdown",
   "metadata": {},
   "source": [
    "## Введение\n",
    "\n",
    "### Постановка задачи\n",
    "\n",
    "В этом задании вы будете использовать рекуррентные нейронные сети для решения проблемы распознавания именованных сущностей (NER). Примерами именованных сущностей являются имена людей, названия организаций, адреса и т.д. В этом задании вы будете работать с данными twitter.\n",
    "\n",
    "Например, вы хотите извлечь имена и названия организаций. Тогда для текста\n",
    "\n",
    "    Yan Goodfellow works for Google Brain\n",
    "\n",
    "модель должна извлечь следующую последовательность:\n",
    "\n",
    "    B-PER I-PER    O     O   B-ORG  I-ORG\n",
    "\n",
    "где префиксы *B-* и *I-* означают начало и конец именованной сущности, *O* означает слово без тега. Такая префиксная система введена, чтобы различать последовательные именованные сущности одного типа.\n",
    "\n",
    "Решение этого задания будет основано на нейронных сетях, а именно на Bi-Directional Long Short-Term Memory Networks (Bi-LSTMs).\n",
    "\n",
    "### Библиотеки\n",
    "\n",
    "Для этого задания вам понадобятся следующие библиотеки:\n",
    " - [Pytorch](https://pytorch.org/).\n",
    " - [Numpy](http://www.numpy.org).\n",
    " \n",
    "### Данные\n",
    "\n",
    "Все данные содержатся в папке `./data`: `./data/train.txt`, `./data/validation.txt`, `./data/test.txt`.\n",
    "\n",
    "Скачать архив можно здесь: [ссылка на google диск](https://drive.google.com/open?id=1s1rFOFMZTBqtJuQDcIvW-8djA78iUDcx)"
   ]
  },
  {
   "cell_type": "code",
   "execution_count": 1,
   "metadata": {},
   "outputs": [],
   "source": [
    "import numpy as np\n",
    "\n",
    "import torch\n",
    "import torch.nn as nn\n",
    "import torch.optim as optim"
   ]
  },
  {
   "cell_type": "code",
   "execution_count": 22,
   "metadata": {},
   "outputs": [],
   "source": [
    "from functools import reduce"
   ]
  },
  {
   "cell_type": "markdown",
   "metadata": {},
   "source": [
    "## Часть 1. Подготовка данных (2 балла)\n",
    "\n",
    "### Загрузка данных\n",
    "\n",
    "Мы будем работать с данными, которые содержат твиты с тегами именованных сущностей. Каждая строка файла содержит пару токен(слово или пунктуация) и тег, разделенные пробелом. Различные твиты разделены пустой строкой.\n",
    "\n",
    "Функция *read_data* считывает корпус из *file_path* и возвращает два списка: один с токенами и один с соответствующими токенам тегами. Также она заменяет все ники (токены, которые начинаются на символ *@*) на токен `<USR>` и url-ы (токены, которые начинаются на *http://* или *https://*) на токен `<URL>`. \n",
    "\n",
    "Вам необходимо реализовать эту функцию."
   ]
  },
  {
   "cell_type": "code",
   "execution_count": 2,
   "metadata": {},
   "outputs": [],
   "source": [
    "USR = '<USR>'\n",
    "URL = '<URL>'"
   ]
  },
  {
   "cell_type": "code",
   "execution_count": 7,
   "metadata": {},
   "outputs": [],
   "source": [
    "def read_data(file_path):\n",
    "    sents_tokens = []\n",
    "    sents_tags = []\n",
    "\n",
    "    ######################################\n",
    "    ######### YOUR CODE HERE #############\n",
    "    ######################################\n",
    "    \n",
    "    lines = open(file_path, 'r').readlines()\n",
    "    \n",
    "    tokens = []\n",
    "    tags = []\n",
    "    \n",
    "    for l in lines:\n",
    "        if len(l.strip()) == 0:\n",
    "            sents_tokens.append(tokens)\n",
    "            sents_tags.append(tags)\n",
    "            \n",
    "            tokens = []\n",
    "            tags = []\n",
    "            \n",
    "            continue\n",
    "        \n",
    "        token, tag = l.strip().split()\n",
    "        \n",
    "        if token.startswith('@'):\n",
    "            token = USR\n",
    "        \n",
    "        elif token.startswith('http://') or token.startswith('https://'):\n",
    "            token = URL\n",
    "        \n",
    "        tokens.append(token)\n",
    "        tags.append(tag)\n",
    "    \n",
    "    return sents_tokens, sents_tags"
   ]
  },
  {
   "cell_type": "markdown",
   "metadata": {},
   "source": [
    "Теперь мы можем загрузить 3 части данных:\n",
    " - *train* для тренировки модели;\n",
    " - *validation* для валидации и подбора гиперпараметров;\n",
    " - *test* для финального тестирования."
   ]
  },
  {
   "cell_type": "code",
   "execution_count": 8,
   "metadata": {},
   "outputs": [],
   "source": [
    "train_tokens, train_tags = read_data('data/train.txt')\n",
    "validation_tokens, validation_tags = read_data('data/validation.txt')\n",
    "test_tokens, test_tags = read_data('data/test.txt')"
   ]
  },
  {
   "cell_type": "markdown",
   "metadata": {},
   "source": [
    "Всегда полезно знать, с какими данными вы работаете. Выведем небольшую часть."
   ]
  },
  {
   "cell_type": "code",
   "execution_count": 10,
   "metadata": {},
   "outputs": [
    {
     "data": {
      "text/plain": [
       "['Apple',\n",
       " 'MacBook',\n",
       " 'Pro',\n",
       " 'A1278',\n",
       " '13.3',\n",
       " '\"',\n",
       " 'Laptop',\n",
       " '-',\n",
       " 'MD101LL/A',\n",
       " '(',\n",
       " 'June',\n",
       " ',',\n",
       " '2012',\n",
       " ')',\n",
       " '-',\n",
       " 'Full',\n",
       " 'read',\n",
       " 'by',\n",
       " 'eBay',\n",
       " '<URL>',\n",
       " '<URL>']"
      ]
     },
     "execution_count": 10,
     "metadata": {},
     "output_type": "execute_result"
    }
   ],
   "source": [
    "train_tokens[1]"
   ]
  },
  {
   "cell_type": "code",
   "execution_count": 564,
   "metadata": {},
   "outputs": [
    {
     "data": {
      "text/plain": [
       "['B-product',\n",
       " 'I-product',\n",
       " 'I-product',\n",
       " 'I-product',\n",
       " 'I-product',\n",
       " 'I-product',\n",
       " 'I-product',\n",
       " 'I-product',\n",
       " 'I-product',\n",
       " 'O',\n",
       " 'O',\n",
       " 'O',\n",
       " 'O',\n",
       " 'O',\n",
       " 'O',\n",
       " 'O',\n",
       " 'O',\n",
       " 'O',\n",
       " 'B-company',\n",
       " 'O',\n",
       " 'O']"
      ]
     },
     "execution_count": 564,
     "metadata": {},
     "output_type": "execute_result"
    }
   ],
   "source": [
    "train_tags[1]"
   ]
  },
  {
   "cell_type": "code",
   "execution_count": 11,
   "metadata": {},
   "outputs": [
    {
     "name": "stdout",
     "output_type": "stream",
     "text": [
      "RT\tO\n",
      "<USR>\tO\n",
      ":\tO\n",
      "Online\tO\n",
      "ticket\tO\n",
      "sales\tO\n",
      "for\tO\n",
      "Ghostland\tB-musicartist\n",
      "Observatory\tI-musicartist\n",
      "extended\tO\n",
      "until\tO\n",
      "6\tO\n",
      "PM\tO\n",
      "EST\tO\n",
      "due\tO\n",
      "to\tO\n",
      "high\tO\n",
      "demand\tO\n",
      ".\tO\n",
      "Get\tO\n",
      "them\tO\n",
      "before\tO\n",
      "they\tO\n",
      "sell\tO\n",
      "out\tO\n",
      "...\tO\n",
      "\n",
      "Apple\tB-product\n",
      "MacBook\tI-product\n",
      "Pro\tI-product\n",
      "A1278\tI-product\n",
      "13.3\tI-product\n",
      "\"\tI-product\n",
      "Laptop\tI-product\n",
      "-\tI-product\n",
      "MD101LL/A\tI-product\n",
      "(\tO\n",
      "June\tO\n",
      ",\tO\n",
      "2012\tO\n",
      ")\tO\n",
      "-\tO\n",
      "Full\tO\n",
      "read\tO\n",
      "by\tO\n",
      "eBay\tB-company\n",
      "<URL>\tO\n",
      "<URL>\tO\n",
      "\n",
      "Happy\tO\n",
      "Birthday\tO\n",
      "<USR>\tO\n",
      "!\tO\n",
      "May\tO\n",
      "Allah\tB-person\n",
      "s.w.t\tO\n",
      "bless\tO\n",
      "you\tO\n",
      "with\tO\n",
      "goodness\tO\n",
      "and\tO\n",
      "happiness\tO\n",
      ".\tO\n",
      "\n"
     ]
    }
   ],
   "source": [
    "for i in range(3):\n",
    "    for token, tag in zip(train_tokens[i], train_tags[i]):\n",
    "        print('%s\\t%s' % (token, tag))\n",
    "    print()"
   ]
  },
  {
   "cell_type": "markdown",
   "metadata": {},
   "source": [
    "### Подготовка словарей\n",
    "\n",
    "Чтобы обучать нейронную сеть, мы будем использовать два отображения.\n",
    "\n",
    "- {token}$\\to${token id}: устанавливает соответствие между токеном и строкой в embedding матрице;\n",
    "- {tag}$\\to${tag id}: one hot encoding тегов.\n",
    "\n",
    "\n",
    "Теперь вам необходимо реализовать функцию *build_dict*, которая должна возвращать словарь {token or tag}$\\to${index} и контейнер, задающий обратное отображение."
   ]
  },
  {
   "cell_type": "code",
   "execution_count": 12,
   "metadata": {},
   "outputs": [],
   "source": [
    "from collections import defaultdict"
   ]
  },
  {
   "cell_type": "code",
   "execution_count": 261,
   "metadata": {},
   "outputs": [],
   "source": [
    "def build_dict(tokens_or_tags, special_tokens):\n",
    "    \"\"\"\n",
    "    tokens_or_tags: a list of lists of tokens or tags\n",
    "    special_tokens: some special tokens\n",
    "    \"\"\"\n",
    "    # Create a dictionary with default value 0\n",
    "    tok2idx = defaultdict(lambda: 0)\n",
    "    idx2tok = []\n",
    "    \n",
    "    # Create mappings from tokens to indices and vice versa\n",
    "    # Add special tokens to dictionaries\n",
    "    # The first special token must have index 0\n",
    "\n",
    "    ######################################\n",
    "    ######### YOUR CODE HERE #############\n",
    "    ######################################\n",
    "    \n",
    "    index = 0\n",
    "    \n",
    "    def get_index():\n",
    "        nonlocal index\n",
    "        \n",
    "        i = index\n",
    "        \n",
    "        index += 1\n",
    "        \n",
    "        return i\n",
    "    \n",
    "    for t in special_tokens:\n",
    "        tok2idx[t] = get_index()\n",
    "\n",
    "    for s in tokens_or_tags:\n",
    "        for t in s:\n",
    "            if t in tok2idx:\n",
    "                continue\n",
    "            \n",
    "            tok2idx[t] = get_index()\n",
    "    \n",
    "    idx2tok = {i: tok for tok, i in tok2idx.items()}\n",
    "    \n",
    "    return tok2idx, idx2tok"
   ]
  },
  {
   "cell_type": "markdown",
   "metadata": {},
   "source": [
    "После реализации функции *build_dict* вы можете создать словари для токенов и тегов. В нашем случае специальными токенами будут:\n",
    " - `<UNK>` токен для обозначаения слов, которых нет в словаре;\n",
    " - `<PAD>` токен для дополнения предложений одного батча до одинаковой длины."
   ]
  },
  {
   "cell_type": "code",
   "execution_count": 563,
   "metadata": {},
   "outputs": [
    {
     "data": {
      "text/plain": [
       "['<USR>',\n",
       " '<USR>',\n",
       " '<USR>',\n",
       " '<USR>',\n",
       " '<USR>',\n",
       " 'still',\n",
       " 'perception',\n",
       " ',',\n",
       " 'and',\n",
       " 'what',\n",
       " 'you',\n",
       " 'key',\n",
       " 'off',\n",
       " 'may',\n",
       " 'differ',\n",
       " 'from',\n",
       " 'me',\n",
       " '.',\n",
       " 'Back',\n",
       " 'to',\n",
       " 'Selma',\n",
       " 'example',\n",
       " ',',\n",
       " 'iow',\n",
       " '.']"
      ]
     },
     "execution_count": 563,
     "metadata": {},
     "output_type": "execute_result"
    }
   ],
   "source": [
    "train_tokens[4]"
   ]
  },
  {
   "cell_type": "code",
   "execution_count": 562,
   "metadata": {},
   "outputs": [
    {
     "data": {
      "text/plain": [
       "[0, 0, 0, 0, 0, 0, 0, 0, 0, 0, 0, 0, 0, 0, 0, 0, 0, 0, 0, 0, 6, 0, 0, 0, 0]"
      ]
     },
     "execution_count": 562,
     "metadata": {},
     "output_type": "execute_result"
    }
   ],
   "source": [
    "train_tag_idxs[4]"
   ]
  },
  {
   "cell_type": "code",
   "execution_count": 565,
   "metadata": {},
   "outputs": [],
   "source": [
    "special_tokens = ['<UNK>', '<PAD>']\n",
    "special_tags = ['O', 'PAD']\n",
    "\n",
    "# Create dictionaries \n",
    "token2idx, idx2token = build_dict(train_tokens + validation_tokens, special_tokens)\n",
    "tag2idx, idx2tag = build_dict(train_tags, special_tags)"
   ]
  },
  {
   "cell_type": "code",
   "execution_count": 566,
   "metadata": {},
   "outputs": [
    {
     "data": {
      "text/plain": [
       "[('<UNK>', 0),\n",
       " ('<PAD>', 1),\n",
       " ('RT', 2),\n",
       " ('<USR>', 3),\n",
       " (':', 4),\n",
       " ('Online', 5),\n",
       " ('ticket', 6),\n",
       " ('sales', 7),\n",
       " ('for', 8),\n",
       " ('Ghostland', 9)]"
      ]
     },
     "execution_count": 566,
     "metadata": {},
     "output_type": "execute_result"
    }
   ],
   "source": [
    "list(token2idx.items())[:10]"
   ]
  },
  {
   "cell_type": "code",
   "execution_count": 567,
   "metadata": {},
   "outputs": [
    {
     "data": {
      "text/plain": [
       "[(0, '<UNK>'),\n",
       " (1, '<PAD>'),\n",
       " (2, 'RT'),\n",
       " (3, '<USR>'),\n",
       " (4, ':'),\n",
       " (5, 'Online'),\n",
       " (6, 'ticket'),\n",
       " (7, 'sales'),\n",
       " (8, 'for'),\n",
       " (9, 'Ghostland')]"
      ]
     },
     "execution_count": 567,
     "metadata": {},
     "output_type": "execute_result"
    }
   ],
   "source": [
    "list(idx2token.items())[:10]"
   ]
  },
  {
   "cell_type": "code",
   "execution_count": 568,
   "metadata": {},
   "outputs": [
    {
     "data": {
      "text/plain": [
       "[('O', 0),\n",
       " ('PAD', 1),\n",
       " ('B-musicartist', 2),\n",
       " ('I-musicartist', 3),\n",
       " ('B-product', 4),\n",
       " ('I-product', 5),\n",
       " ('B-company', 6),\n",
       " ('B-person', 7),\n",
       " ('B-other', 8),\n",
       " ('I-other', 9)]"
      ]
     },
     "execution_count": 568,
     "metadata": {},
     "output_type": "execute_result"
    }
   ],
   "source": [
    "list(tag2idx.items())[:10]"
   ]
  },
  {
   "cell_type": "markdown",
   "metadata": {},
   "source": [
    "### Генератор батчей\n",
    "\n",
    "Обычно нейронные сети обучаются батчами. Это означает, что каждое обновление весов нейронной сети происходит на основе нескольких последовательностей. Технической деталью является необходимость дополнить все последовательности внутри батча до одной длины. Для некоторых фреймворков (таких как tensorflow) это необходимо сделать до подачи батча в нейронную сеть. В случае с pytorch это можно сделать как вне архитектуры нейронной сети, так и внутри. Мы выбрали более универсальный вариант и наш генератор батчей дополняет все последовательности внутри одного батча до одной длины.\n",
    "\n",
    "Генератор батчей разбивает последовательность входных предложений и тегов на батчи размера batch_size. Размер последнего батча может быть меньше, если allow_smaller_last_batch is True, иначе последний батч исключается из генератора. Если включён параметр shuffle, данные перед разделением на батчи будут перемешаны. "
   ]
  },
  {
   "cell_type": "code",
   "execution_count": 577,
   "metadata": {},
   "outputs": [],
   "source": [
    "def batches_generator(batch_size, tokens_idxs, tags_idxs,\n",
    "                      shuffle=True, allow_smaller_last_batch=True, device='cpu'):\n",
    "    \"\"\"\n",
    "    Generates padded batches of tags_idxs and tags_idxs.\n",
    "    \n",
    "    batch_size : int, number of objects in one batch\n",
    "    tokens_idxs : list of list of int\n",
    "    tags_idxs : list of list of int\n",
    "    shuffle : bool\n",
    "    allow_smaller_last_batch : bool\n",
    "    device: str, cpu or cuda:x\n",
    "    \n",
    "    yield x, y: torch.LongTensor and torch.LongTensor\n",
    "    x - batch of tokens_idxs, y - batch of tags_idxs\n",
    "    \"\"\"\n",
    "    n_samples = len(tokens_idxs)\n",
    "    \n",
    "    # Shuffle data if shuffle is True.\n",
    "    # Don't modify the original tokens and tags!\n",
    "    \n",
    "    ######################################\n",
    "    ######### YOUR CODE HERE #############\n",
    "    ######################################\n",
    "    \n",
    "    if shuffle:\n",
    "        indices = np.arange(0, len(tokens_idxs))\n",
    "        \n",
    "        np.random.shuffle(indices)\n",
    "        \n",
    "        tokens_idxs = np.array(tokens_idxs)[indices].tolist()\n",
    "        tags_idxs = np.array(tags_idxs)[indices].tolist()\n",
    "    \n",
    "    # Get the number of batches\n",
    "    # n_batches =  ### YOUR CODE HERE ###\n",
    "    \n",
    "    n_batches = int(np.ceil(\n",
    "       len(tokens_idxs) / batch_size\n",
    "    ))\n",
    "    \n",
    "    # For each k yield pair x and y\n",
    "    for k in range(n_batches):\n",
    "        \n",
    "        ######################################\n",
    "        ######### YOUR CODE HERE #############\n",
    "        ######################################\n",
    "\n",
    "        x = tokens_idxs[k * batch_size : k * batch_size + batch_size]\n",
    "        y =   tags_idxs[k * batch_size : k * batch_size + batch_size]\n",
    "        \n",
    "        if k == n_batches - 1 and len(x) < batch_size and not allow_smaller_last_batch:\n",
    "            return\n",
    "        \n",
    "        length = max(len(s) for s in x)\n",
    "        \n",
    "        for i, s in enumerate(x):\n",
    "            if len(s) < length:\n",
    "                x[i] = s + [token2idx['<PAD>']] * (length - len(s))\n",
    "                y[i] = y[i] + [tag2idx['PAD']] * (length - len(s))\n",
    "        \n",
    "        x = torch.LongTensor(x)\n",
    "        y = torch.LongTensor(y)\n",
    "        \n",
    "        x = x.long().to(device)\n",
    "        y = y.long().to(device)\n",
    "        \n",
    "        yield x, y"
   ]
  },
  {
   "cell_type": "markdown",
   "metadata": {},
   "source": [
    "Протестируйте ваш генератор батчей:"
   ]
  },
  {
   "cell_type": "code",
   "execution_count": 578,
   "metadata": {},
   "outputs": [],
   "source": [
    "def get_token_idxs(tokens):\n",
    "    return [\n",
    "        [token2idx[t] for t in s]\n",
    "        for s in tokens\n",
    "    ]\n",
    "\n",
    "def get_tag_idxs(tags):\n",
    "    return [\n",
    "        [tag2idx[t] for t in s]\n",
    "        for s in tags\n",
    "    ] "
   ]
  },
  {
   "cell_type": "code",
   "execution_count": 579,
   "metadata": {},
   "outputs": [],
   "source": [
    "train_idxs = get_token_idxs(train_tokens)\n",
    "train_tag_idxs = get_tag_idxs(train_tags)"
   ]
  },
  {
   "cell_type": "code",
   "execution_count": 580,
   "metadata": {},
   "outputs": [],
   "source": [
    "test_idxs = get_token_idxs(test_tokens)\n",
    "test_tag_idxs = get_tag_idxs(test_tags)"
   ]
  },
  {
   "cell_type": "code",
   "execution_count": 581,
   "metadata": {},
   "outputs": [],
   "source": [
    "val_idxs = get_token_idxs(validation_tokens)\n",
    "val_tag_idxs = get_tag_idxs(validation_tags)"
   ]
  },
  {
   "cell_type": "code",
   "execution_count": 582,
   "metadata": {},
   "outputs": [
    {
     "data": {
      "text/plain": [
       "(5795, 724, 724)"
      ]
     },
     "execution_count": 582,
     "metadata": {},
     "output_type": "execute_result"
    }
   ],
   "source": [
    "len(train_idxs), len(test_idxs), len(val_idxs)"
   ]
  },
  {
   "cell_type": "code",
   "execution_count": 588,
   "metadata": {},
   "outputs": [
    {
     "data": {
      "text/plain": [
       "1"
      ]
     },
     "execution_count": 588,
     "metadata": {},
     "output_type": "execute_result"
    }
   ],
   "source": [
    "tag2idx['PAD']"
   ]
  },
  {
   "cell_type": "code",
   "execution_count": 590,
   "metadata": {},
   "outputs": [],
   "source": [
    "test_nonrandom_batch_generator = batches_generator(\n",
    "    batch_size=3,\n",
    "    tokens_idxs=train_idxs[:7],\n",
    "    tags_idxs=train_tag_idxs[:7],\n",
    "    shuffle=False,\n",
    "    allow_smaller_last_batch=True\n",
    ")\n",
    "\n",
    "batch_lengths = [3, 3, 1]\n",
    "sequence_lengths = [26, 25, 8]\n",
    "some_pad_tensor = torch.LongTensor([token2idx['<PAD>']] * 12)\n",
    "some_outside_tensor = torch.LongTensor([tag2idx['PAD']] * 12)\n",
    "\n",
    "for i, (tokens_batch, tags_batch) in enumerate(test_nonrandom_batch_generator):\n",
    "    assert tokens_batch.dtype == torch.int64, 'tokens_batch is not LongTensor'\n",
    "    assert tags_batch.dtype == torch.int64, 'tags_batch is not LongTensor'\n",
    "    \n",
    "    assert len(tokens_batch) == batch_lengths[i], 'wrong batch length'\n",
    "    \n",
    "    for one_token_sequence in tokens_batch:\n",
    "        assert len(one_token_sequence) == sequence_lengths[i], 'wrong length of sequence in batch'\n",
    "    \n",
    "    if i == 0:\n",
    "        assert torch.all(tokens_batch[2][-12:] == some_pad_tensor), \"wrong padding\"\n",
    "        assert torch.all(tags_batch[2][-12:] == some_outside_tensor), \"wrong O tag\""
   ]
  },
  {
   "cell_type": "markdown",
   "metadata": {},
   "source": [
    "## Часть 2. BiLSTM (3 балла)\n",
    "\n",
    "Определите архитектуру сети, используя библиотеку pytorch. \n",
    "\n",
    "**Замечания:**\n",
    "1. Для улучшения качества сети предлагается использовать дополнительный Embedding слой на входе (каждому слову ставится в соответствие обучаемый вектор). \n",
    "\n",
    "2. Не забудьте, что `<PAD>` токены не должны учавствовать в подсчёте функции потерь."
   ]
  },
  {
   "cell_type": "code",
   "execution_count": 725,
   "metadata": {},
   "outputs": [],
   "source": [
    "# https://cs230-stanford.github.io/pytorch-nlp.html\n",
    "\n",
    "def custom_cross_entropy_loss(outputs, labels):\n",
    "    # reshape labels to give a flat vector of length batch_size*seq_len\n",
    "    labels = labels.view(-1)  \n",
    "\n",
    "    # mask out 'PAD' tokens\n",
    "    mask1 = (labels != tag2idx['PAD']).float()\n",
    "    mask2 = (labels != tag2idx['O']).float()\n",
    "    \n",
    "#     print(labels)\n",
    "#     print(mask1)\n",
    "#     print(mask2)\n",
    "#     print(mask1 * mask2)\n",
    "#     print(int(torch.sum(mask1 * mask2)))\n",
    "\n",
    "    # the number of tokens is the sum of elements in mask\n",
    "    num_tokens = int(torch.sum(mask1 * mask2))\n",
    "\n",
    "    # pick the values corresponding to labels and multiply by mask\n",
    "    outputs = outputs[range(outputs.shape[0]), labels] * mask1 * mask2\n",
    "\n",
    "    # cross entropy loss for all non 'PAD' tokens\n",
    "    return -torch.sum(outputs) / max(num_tokens, 1)"
   ]
  },
  {
   "cell_type": "code",
   "execution_count": 756,
   "metadata": {},
   "outputs": [],
   "source": [
    "class BiLSTMModel(torch.nn.Module):\n",
    "    def __init__(self,\n",
    "                 vocabulary_size,\n",
    "                 n_tags,\n",
    "                 PAD_index,\n",
    "                 embedding_dim,\n",
    "                 rnn_hidden_size,\n",
    "                 dropout_zeroed_probability,\n",
    "                 device='cpu'):\n",
    "        '''\n",
    "        Defines neural network structure.\n",
    "        \n",
    "        architecture: input -> Embedding -> BiLSTM -> Dropout -> Linear\n",
    "        optimizer: Adam\n",
    "        \n",
    "        ----------\n",
    "        Parameters\n",
    "        \n",
    "        vocabulary_size: int, number of words in vocabulary.\n",
    "        n_tags: int, number of tags.\n",
    "        PAD_index: int, index of padding character. Used for loss masking.\n",
    "        embedding_dim: int, dimension of words' embeddings.\n",
    "        rnn_hidden_size: int, number of hidden units in each LSTM cell\n",
    "        dropout_zeroed_probability: float, dropout zeroed probability for Dropout layer.\n",
    "        device: str, cpu or cuda:x\n",
    "        '''\n",
    "        ######################################\n",
    "        ######### YOUR CODE HERE #############\n",
    "        ######################################\n",
    "        super().__init__()\n",
    "        \n",
    "        self.vocabulary_size = vocabulary_size\n",
    "        self.n_tags = n_tags\n",
    "        self.PAD_index = PAD_index\n",
    "        self.embedding_dim = embedding_dim\n",
    "        self.rnn_hidden_size = rnn_hidden_size\n",
    "        self.dropout_zeroed_probability = dropout_zeroed_probability\n",
    "        self.device = device\n",
    "\n",
    "        self.embedding = nn.Embedding(\n",
    "            self.vocabulary_size,\n",
    "            self.embedding_dim,\n",
    "            padding_idx=self.PAD_index\n",
    "        )\n",
    "\n",
    "        self.lstm = nn.LSTM(\n",
    "            input_size=self.embedding.embedding_dim,\n",
    "            hidden_size=rnn_hidden_size // 2,\n",
    "            bidirectional=True\n",
    "        )\n",
    "        \n",
    "        self.dropout = nn.Dropout(self.dropout_zeroed_probability)\n",
    "        \n",
    "        self.linear = nn.Linear(2 * self.lstm.hidden_size, len(tag2idx))\n",
    "        \n",
    "    def forward(self, x_batch):\n",
    "        '''\n",
    "        Makes forward pass.\n",
    "        \n",
    "        ----------\n",
    "        Parameters\n",
    "        x_batch: torch.LongTensor with shape (number of samples in batch, number words in sentence).\n",
    "        '''\n",
    "        ######################################\n",
    "        ######### YOUR CODE HERE #############\n",
    "        ######################################\n",
    "        \n",
    "        # input -> Embedding -> BiLSTM -> Dropout -> Linear\n",
    "        \n",
    "        x_batch = torch.LongTensor(x_batch).to(self.device)\n",
    "\n",
    "        embeddings = self.embedding(x_batch)\n",
    "        lstm_output, _ = self.lstm(embeddings)\n",
    "        dropout_output = self.dropout(lstm_output)\n",
    "        pred_scores = self.linear(dropout_output)\n",
    "\n",
    "        pred_probs = torch.nn.functional.log_softmax(pred_scores, dim=2)\n",
    "\n",
    "#         print(x_batch.shape)\n",
    "#         print('embeddings', embeddings.shape)\n",
    "#         print('lstm_output', lstm_output.shape)\n",
    "#         print('dropout_output', dropout_output.shape)\n",
    "#         print('pred_scores', pred_scores.shape)\n",
    "#         print('pred_probs', pred_probs.shape)\n",
    "#         print('pred_tags', pred_tags.shape)\n",
    "        \n",
    "#         for s in x_batch:\n",
    "#             pred_sent = []\n",
    "\n",
    "#             for t in s:\n",
    "        \n",
    "#                 embedding = self.embedding(t)\n",
    "#                 print(embedding)\n",
    "#                 lstm_output, _ = self.lstm(embedding)\n",
    "#                 dropout_output = self.dropout(lstm_output)\n",
    "#                 pred_scores = self.linear(dropout_output)\n",
    "                \n",
    "#                 pred_tag = torch.nn.functional.log_softmax(pred_scores)\n",
    "                \n",
    "#                 print(x_batch.shape)\n",
    "#                 print(t.shape)\n",
    "#                 print('embedding', embedding.shape)\n",
    "#                 print('lstm_output', lstm_output.shape)\n",
    "#                 print('dropout_output', dropout_output.shape)\n",
    "#                 print('pred_scores', pred_scores.shape)\n",
    "#                 break\n",
    "                \n",
    "#                 pred_sent.append(pred_tag)\n",
    "            \n",
    "#             pred_batch.append(pred_sent)\n",
    "        \n",
    "#         print(pred_batch)\n",
    "        \n",
    "        return pred_probs.to(device=self.device)\n",
    "        \n",
    "    def predict_for_batch(self, x_batch):\n",
    "        '''\n",
    "        Returns predictions for x_batch.\n",
    "        \n",
    "        return type: torch.LongTensor\n",
    "        return shape: (number of samples in batch, number words in sentence.\n",
    "        \n",
    "        ----------\n",
    "        Parameters\n",
    "        x_batch: torch.LongTensor with shape (number of samples in batch, number words in sentence).\n",
    "        '''\n",
    "        ######################################\n",
    "        ######### YOUR CODE HERE #############\n",
    "        ###################################### \n",
    "        \n",
    "        pred_probs = self.forward(x_batch)\n",
    "        pred_tags = torch.argmax(pred_probs, dim=2)\n",
    "        \n",
    "        return pred_tags.tolist()\n",
    "    \n",
    "    def train_on_batch(\n",
    "        self,\n",
    "        x_batch, y_batch,\n",
    "        optimizer,\n",
    "        criterion,\n",
    "        loss_function=custom_cross_entropy_loss,\n",
    "        lr=1e-4\n",
    "    ):\n",
    "        '''\n",
    "        Trains model on the given batch.\n",
    "        \n",
    "        ----------\n",
    "        Parameters\n",
    "        x_batch: np.ndarray with shape (number of samples in batch, number words in sentence).\n",
    "        y_batch: np.ndarray with shape (number of samples in batch).\n",
    "        optimizer: torch.optimizer class\n",
    "        loss_function: torch loss class\n",
    "        '''\n",
    "        ######################################\n",
    "        ######### YOUR CODE HERE #############\n",
    "        ######################################\n",
    "        \n",
    "        x_batch = x_batch.tolist()\n",
    "        y_batch = y_batch.tolist()\n",
    "        \n",
    "        optimizer.zero_grad()\n",
    "\n",
    "#         criterion = loss_class(ignore_index=tag2idx['PAD'])  # tag2idx['O']\n",
    "#         optimizer = optimizer_class(self.parameters(), lr=lr)\n",
    "        \n",
    "        pred_batch = self.forward(x_batch)\n",
    "\n",
    "        for sent_tokens, sent_preds, sent_tags in zip(x_batch, pred_batch, y_batch):\n",
    "#             pad_indices = [i for i, tok_idx in enumerate(sent_tokens)\n",
    "#                            if tok_idx == token2idx['<PAD>']]\n",
    "\n",
    "            if loss_function is None:\n",
    "                loss = criterion(\n",
    "                    torch.FloatTensor(sent_preds),\n",
    "                    torch.LongTensor(sent_tags)\n",
    "                )\n",
    "            else:\n",
    "                loss = loss_function(\n",
    "                    torch.FloatTensor(sent_preds),\n",
    "                    torch.LongTensor(sent_tags)\n",
    "                )\n",
    "\n",
    "            loss.backward(retain_graph=True)\n",
    "\n",
    "            optimizer.step()"
   ]
  },
  {
   "cell_type": "markdown",
   "metadata": {},
   "source": [
    "Для тестирования сети мы подготовили для вас две функции:\n",
    " - *predict_tags*: получает батч данных и трансформирует его в список из токенов и предсказанных тегов;\n",
    " - *eval_conll*: вычисляет метрики precision, recall и F1"
   ]
  },
  {
   "cell_type": "code",
   "execution_count": 727,
   "metadata": {},
   "outputs": [],
   "source": [
    "from evaluation_ner import precision_recall_f1"
   ]
  },
  {
   "cell_type": "code",
   "execution_count": 728,
   "metadata": {},
   "outputs": [],
   "source": [
    "def predict_tags(model, token_idxs_batch):\n",
    "    \"\"\"Performs predictions and transforms indices to tokens and tags.\"\"\"\n",
    "    \n",
    "    tag_idxs_batch = model.predict_for_batch(token_idxs_batch)\n",
    "    \n",
    "    tags_batch, tokens_batch = [], []\n",
    "    \n",
    "    for tag_idxs, token_idxs in zip(tag_idxs_batch, token_idxs_batch):\n",
    "        tags, tokens = [], []\n",
    "        \n",
    "        for tag_idx, token_idx in zip(tag_idxs, token_idxs):\n",
    "            if token_idx != token2idx['<PAD>']:\n",
    "                tags.append(idx2tag[tag_idx])\n",
    "                tokens.append(idx2token[token_idx])\n",
    "        \n",
    "        tags_batch.append(tags)\n",
    "        tokens_batch.append(tokens)\n",
    "\n",
    "    return tags_batch, tokens_batch\n",
    "    \n",
    "    \n",
    "def eval_conll(model, tokens, tags, short_report=True):\n",
    "    \"\"\"Computes NER quality measures using CONLL shared task script.\"\"\"\n",
    "    \n",
    "    y_true, y_pred = [], []\n",
    "    \n",
    "    for x_batch, y_batch in batches_generator(1, tokens, tags):\n",
    "        tags_batch, tokens_batch = predict_tags(model, x_batch.tolist())\n",
    "        ground_truth_tags = [idx2tag[tag_idx] for tag_idx in y_batch.tolist()[0]]\n",
    "\n",
    "        # We extend every prediction and ground truth sequence with 'O' tag\n",
    "        # to indicate a possible end of entity.\n",
    "        y_true.extend(ground_truth_tags + ['PAD'])\n",
    "        y_pred.extend(tags_batch[0] + ['PAD'])\n",
    "    \n",
    "    results = precision_recall_f1(\n",
    "        y_true, y_pred,\n",
    "        print_results=True,\n",
    "        short_report=short_report\n",
    "    )\n",
    "    \n",
    "    return results"
   ]
  },
  {
   "cell_type": "code",
   "execution_count": 729,
   "metadata": {},
   "outputs": [],
   "source": [
    "model = BiLSTMModel(\n",
    "    vocabulary_size=len(token2idx),\n",
    "    n_tags=len(tag2idx),\n",
    "    PAD_index=token2idx['<PAD>'],\n",
    "    embedding_dim=100,\n",
    "    rnn_hidden_size=200,\n",
    "    dropout_zeroed_probability=0.4\n",
    ")"
   ]
  },
  {
   "cell_type": "code",
   "execution_count": 730,
   "metadata": {},
   "outputs": [],
   "source": [
    "batch_size = 3"
   ]
  },
  {
   "cell_type": "code",
   "execution_count": 731,
   "metadata": {},
   "outputs": [],
   "source": [
    "num_batches = len([s for s in batches_generator(batch_size, train_idxs, train_tag_idxs)])"
   ]
  },
  {
   "cell_type": "code",
   "execution_count": 732,
   "metadata": {},
   "outputs": [
    {
     "data": {
      "text/plain": [
       "1"
      ]
     },
     "execution_count": 732,
     "metadata": {},
     "output_type": "execute_result"
    }
   ],
   "source": [
    "tag2idx['PAD']"
   ]
  },
  {
   "cell_type": "code",
   "execution_count": 733,
   "metadata": {},
   "outputs": [
    {
     "data": {
      "text/plain": [
       "[0, 0, 0, 0, 0, 0, 0, 2, 3, 0, 0, 0, 0, 0, 0, 0, 0, 0, 0, 0, 0, 0, 0, 0, 0, 0]"
      ]
     },
     "execution_count": 733,
     "metadata": {},
     "output_type": "execute_result"
    }
   ],
   "source": [
    "train_tag_idxs[0]"
   ]
  },
  {
   "cell_type": "code",
   "execution_count": 734,
   "metadata": {},
   "outputs": [
    {
     "name": "stdout",
     "output_type": "stream",
     "text": [
      "0 / 1932\n",
      "200 / 1932\n",
      "400 / 1932\n",
      "600 / 1932\n",
      "800 / 1932\n",
      "1000 / 1932\n",
      "1200 / 1932\n",
      "1400 / 1932\n",
      "1600 / 1932\n",
      "1800 / 1932\n"
     ]
    }
   ],
   "source": [
    "log_after = 200\n",
    "\n",
    "for i, (x_batch, y_batch) in enumerate(batches_generator(\n",
    "        batch_size, train_idxs, train_tag_idxs)):\n",
    "\n",
    "    if i % log_after == 0:\n",
    "        print(f'{i} / {num_batches}')\n",
    "    \n",
    "    model.train_on_batch(x_batch, y_batch)"
   ]
  },
  {
   "cell_type": "code",
   "execution_count": 735,
   "metadata": {},
   "outputs": [
    {
     "data": {
      "text/plain": [
       "([['B-geo-loc',\n",
       "   'I-other',\n",
       "   'B-geo-loc',\n",
       "   'B-geo-loc',\n",
       "   'B-geo-loc',\n",
       "   'B-geo-loc',\n",
       "   'B-geo-loc',\n",
       "   'B-geo-loc',\n",
       "   'B-geo-loc',\n",
       "   'B-geo-loc',\n",
       "   'B-geo-loc',\n",
       "   'B-geo-loc',\n",
       "   'B-geo-loc',\n",
       "   'B-geo-loc',\n",
       "   'B-other',\n",
       "   'B-geo-loc',\n",
       "   'B-geo-loc',\n",
       "   'B-geo-loc',\n",
       "   'B-geo-loc',\n",
       "   'B-geo-loc',\n",
       "   'B-geo-loc',\n",
       "   'B-geo-loc',\n",
       "   'B-person',\n",
       "   'B-geo-loc',\n",
       "   'B-geo-loc']],\n",
       " [['Big',\n",
       "   'Day',\n",
       "   'tomorrow',\n",
       "   '-',\n",
       "   'Thanks',\n",
       "   'to',\n",
       "   'all',\n",
       "   'of',\n",
       "   'Team',\n",
       "   'Pioneers',\n",
       "   'who',\n",
       "   'have',\n",
       "   'been',\n",
       "   'busy',\n",
       "   'unwrapping',\n",
       "   'tables',\n",
       "   'and',\n",
       "   'unpacking',\n",
       "   'boxes',\n",
       "   'to',\n",
       "   'ensure',\n",
       "   'school',\n",
       "   'is',\n",
       "   'ready',\n",
       "   '!']])"
      ]
     },
     "execution_count": 735,
     "metadata": {},
     "output_type": "execute_result"
    }
   ],
   "source": [
    "predict_tags(model, train_idxs[10:11])"
   ]
  },
  {
   "cell_type": "code",
   "execution_count": 487,
   "metadata": {},
   "outputs": [
    {
     "data": {
      "text/plain": [
       "0.019130434782608695"
      ]
     },
     "execution_count": 487,
     "metadata": {},
     "output_type": "execute_result"
    }
   ],
   "source": [
    "2 * (1 / 100) * (22 / 100) / (1 / 100 + 22 / 100)"
   ]
  },
  {
   "cell_type": "code",
   "execution_count": 736,
   "metadata": {},
   "outputs": [
    {
     "name": "stdout",
     "output_type": "stream",
     "text": [
      "processed 105778 tokens with 4489 phrases; found: 99943 phrases; correct: 934.\n",
      "\n",
      "precision:  0.93%; recall:  20.81%; F1:  1.79\n",
      "\n"
     ]
    },
    {
     "data": {
      "text/plain": [
       "OrderedDict([('D',\n",
       "              OrderedDict([('precision', 0),\n",
       "                           ('recall', 0),\n",
       "                           ('f1', 0),\n",
       "                           ('n_predicted_entities', 0),\n",
       "                           ('n_true_entities', 0)])),\n",
       "             ('company',\n",
       "              OrderedDict([('precision', 3.836667580158948),\n",
       "                           ('recall', 21.77293934681182),\n",
       "                           ('f1', 6.5237651444548),\n",
       "                           ('n_predicted_entities', 3649),\n",
       "                           ('n_true_entities', 643)])),\n",
       "             ('facility',\n",
       "              OrderedDict([('precision', 0.0),\n",
       "                           ('recall', 0.0),\n",
       "                           ('f1', 0),\n",
       "                           ('n_predicted_entities', 21),\n",
       "                           ('n_true_entities', 314)])),\n",
       "             ('geo-loc',\n",
       "              OrderedDict([('precision', 0.8574700080672444),\n",
       "                           ('recall', 66.16465863453816),\n",
       "                           ('f1', 1.6929993577392421),\n",
       "                           ('n_predicted_entities', 76854),\n",
       "                           ('n_true_entities', 996)])),\n",
       "             ('movie',\n",
       "              OrderedDict([('precision', 0.0),\n",
       "                           ('recall', 0.0),\n",
       "                           ('f1', 0),\n",
       "                           ('n_predicted_entities', 1),\n",
       "                           ('n_true_entities', 68)])),\n",
       "             ('musicartist',\n",
       "              OrderedDict([('precision', 0),\n",
       "                           ('recall', 0.0),\n",
       "                           ('f1', 0),\n",
       "                           ('n_predicted_entities', 0),\n",
       "                           ('n_true_entities', 232)])),\n",
       "             ('other',\n",
       "              OrderedDict([('precision', 0.7408550702268869),\n",
       "                           ('recall', 12.681638044914134),\n",
       "                           ('f1', 1.3999270871308787),\n",
       "                           ('n_predicted_entities', 12958),\n",
       "                           ('n_true_entities', 757)])),\n",
       "             ('person',\n",
       "              OrderedDict([('precision', 0.6042764177254416),\n",
       "                           ('recall', 4.401805869074492),\n",
       "                           ('f1', 1.0626702997275206),\n",
       "                           ('n_predicted_entities', 6454),\n",
       "                           ('n_true_entities', 886)])),\n",
       "             ('product',\n",
       "              OrderedDict([('precision', 0.0),\n",
       "                           ('recall', 0.0),\n",
       "                           ('f1', 0),\n",
       "                           ('n_predicted_entities', 5),\n",
       "                           ('n_true_entities', 318)])),\n",
       "             ('sportsteam',\n",
       "              OrderedDict([('precision', 0.0),\n",
       "                           ('recall', 0.0),\n",
       "                           ('f1', 0),\n",
       "                           ('n_predicted_entities', 1),\n",
       "                           ('n_true_entities', 217)])),\n",
       "             ('tvshow',\n",
       "              OrderedDict([('precision', 0),\n",
       "                           ('recall', 0.0),\n",
       "                           ('f1', 0),\n",
       "                           ('n_predicted_entities', 0),\n",
       "                           ('n_true_entities', 58)]))])"
      ]
     },
     "execution_count": 736,
     "metadata": {},
     "output_type": "execute_result"
    }
   ],
   "source": [
    "eval_conll(model, train_idxs, train_tag_idxs)"
   ]
  },
  {
   "cell_type": "markdown",
   "metadata": {},
   "source": [
    "### Эксперименты\n",
    "\n",
    "Задайте BiLSTMModel. Рекомендуемые параметры:\n",
    "- *batch_size*: 32;\n",
    "- начальное значение *learning_rate*: 0.01-0.001\n",
    "- *dropout_zeroed_probability*: 0.7-0.9\n",
    "- *embedding_dim*: 100-200\n",
    "- *rnn_hidden_size*: 150-200"
   ]
  },
  {
   "cell_type": "markdown",
   "metadata": {},
   "source": [
    "Проведите эксперименты на данных. Настраивайте параметры по валидационной выборке, не используя тестовую. Ваше цель — настроить сеть так, чтобы качество модели по F1 мере на валидационной и тестовой выборках было не меньше 0.35. \n",
    "\n",
    "Если сеть плохо обучается, попробуйте использовать следующие модификации:\n",
    "    * используйте gradient clipping\n",
    "    * на каждой итерации уменьшайте learning rate (например, в 1.1 раз)\n",
    "    * попробуйте вместо Adam другие оптимизаторы \n",
    "    * экспериментируйте с dropout\n",
    "\n",
    "Сделайте выводы о качестве модели, переобучении, чувствительности архитектуры к выбору гиперпараметров. Оформите результаты экспериментов в виде мини-отчета (в этом же ipython notebook)."
   ]
  },
  {
   "cell_type": "code",
   "execution_count": null,
   "metadata": {},
   "outputs": [],
   "source": [
    "######################################\n",
    "######### YOUR CODE HERE #############\n",
    "######################################        "
   ]
  },
  {
   "cell_type": "code",
   "execution_count": 757,
   "metadata": {},
   "outputs": [],
   "source": [
    "model = BiLSTMModel(\n",
    "    vocabulary_size=len(token2idx),\n",
    "    n_tags=len(tag2idx),\n",
    "    PAD_index=token2idx['<PAD>'],\n",
    "    embedding_dim=100,\n",
    "    rnn_hidden_size=150,\n",
    "    dropout_zeroed_probability=0.7\n",
    ")"
   ]
  },
  {
   "cell_type": "code",
   "execution_count": 758,
   "metadata": {},
   "outputs": [],
   "source": [
    "batch_size = 32\n",
    "lr = 0.01"
   ]
  },
  {
   "cell_type": "code",
   "execution_count": 759,
   "metadata": {},
   "outputs": [],
   "source": [
    "num_batches = len([s for s in batches_generator(batch_size, train_idxs, train_tag_idxs)])"
   ]
  },
  {
   "cell_type": "code",
   "execution_count": 760,
   "metadata": {},
   "outputs": [
    {
     "data": {
      "text/plain": [
       "182"
      ]
     },
     "execution_count": 760,
     "metadata": {},
     "output_type": "execute_result"
    }
   ],
   "source": [
    "num_batches"
   ]
  },
  {
   "cell_type": "code",
   "execution_count": null,
   "metadata": {},
   "outputs": [
    {
     "name": "stdout",
     "output_type": "stream",
     "text": [
      "epoch # 0\n",
      "0 / 182\n",
      "100 / 182\n",
      "epoch # 1\n",
      "0 / 182\n"
     ]
    }
   ],
   "source": [
    "num_epochs = 10\n",
    "\n",
    "criterion = torch.nn.CrossEntropyLoss(ignore_index=tag2idx['PAD'])  # tag2idx['O']\n",
    "optimizer = torch.optim.Adam(model.parameters(), lr=lr)\n",
    "\n",
    "for e in range(num_epochs):\n",
    "    print('epoch #', e)\n",
    "    \n",
    "    log_after = 100\n",
    "\n",
    "    for i, (x_batch, y_batch) in enumerate(batches_generator(\n",
    "            batch_size, train_idxs, train_tag_idxs)):\n",
    "\n",
    "        if i % log_after == 0:\n",
    "            print(f'{i} / {num_batches}')\n",
    "\n",
    "        model.train_on_batch(\n",
    "            x_batch,\n",
    "            y_batch,\n",
    "            optimizer=optimizer,\n",
    "            criterion=criterion,\n",
    "            loss_function=custom_cross_entropy_loss\n",
    "        )"
   ]
  },
  {
   "cell_type": "code",
   "execution_count": 532,
   "metadata": {},
   "outputs": [
    {
     "name": "stdout",
     "output_type": "stream",
     "text": [
      "processed 105778 tokens with 4489 phrases; found: 99547 phrases; correct: 773.\n",
      "\n",
      "precision:  0.78%; recall:  17.22%; F1:  1.49\n",
      "\n"
     ]
    },
    {
     "data": {
      "text/plain": [
       "OrderedDict([('company',\n",
       "              OrderedDict([('precision', 0.9076682316118936),\n",
       "                           ('recall', 4.5101088646967336),\n",
       "                           ('f1', 1.5112037519541428),\n",
       "                           ('n_predicted_entities', 3195),\n",
       "                           ('n_true_entities', 643)])),\n",
       "             ('facility',\n",
       "              OrderedDict([('precision', 0.0),\n",
       "                           ('recall', 0.0),\n",
       "                           ('f1', 0),\n",
       "                           ('n_predicted_entities', 500),\n",
       "                           ('n_true_entities', 314)])),\n",
       "             ('geo-loc',\n",
       "              OrderedDict([('precision', 0.8508674521567327),\n",
       "                           ('recall', 59.23694779116466),\n",
       "                           ('f1', 1.6776376587002573),\n",
       "                           ('n_predicted_entities', 69341),\n",
       "                           ('n_true_entities', 996)])),\n",
       "             ('movie',\n",
       "              OrderedDict([('precision', 0.0),\n",
       "                           ('recall', 0.0),\n",
       "                           ('f1', 0),\n",
       "                           ('n_predicted_entities', 225),\n",
       "                           ('n_true_entities', 68)])),\n",
       "             ('musicartist',\n",
       "              OrderedDict([('precision', 0.0),\n",
       "                           ('recall', 0.0),\n",
       "                           ('f1', 0),\n",
       "                           ('n_predicted_entities', 279),\n",
       "                           ('n_true_entities', 232)])),\n",
       "             ('other',\n",
       "              OrderedDict([('precision', 0.4766198634548499),\n",
       "                           ('recall', 4.887714663143989),\n",
       "                           ('f1', 0.8685446009389671),\n",
       "                           ('n_predicted_entities', 7763),\n",
       "                           ('n_true_entities', 757)])),\n",
       "             ('person',\n",
       "              OrderedDict([('precision', 0.6572295247724975),\n",
       "                           ('recall', 13.205417607223477),\n",
       "                           ('f1', 1.2521404109589043),\n",
       "                           ('n_predicted_entities', 17802),\n",
       "                           ('n_true_entities', 886)])),\n",
       "             ('product',\n",
       "              OrderedDict([('precision', 0.0),\n",
       "                           ('recall', 0.0),\n",
       "                           ('f1', 0),\n",
       "                           ('n_predicted_entities', 303),\n",
       "                           ('n_true_entities', 318)])),\n",
       "             ('sportsteam',\n",
       "              OrderedDict([('precision', 0.0),\n",
       "                           ('recall', 0.0),\n",
       "                           ('f1', 0),\n",
       "                           ('n_predicted_entities', 84),\n",
       "                           ('n_true_entities', 217)])),\n",
       "             ('tvshow',\n",
       "              OrderedDict([('precision', 0.0),\n",
       "                           ('recall', 0.0),\n",
       "                           ('f1', 0),\n",
       "                           ('n_predicted_entities', 55),\n",
       "                           ('n_true_entities', 58)]))])"
      ]
     },
     "execution_count": 532,
     "metadata": {},
     "output_type": "execute_result"
    }
   ],
   "source": [
    "eval_conll(model, train_idxs, train_tag_idxs)"
   ]
  },
  {
   "cell_type": "code",
   "execution_count": 533,
   "metadata": {},
   "outputs": [
    {
     "name": "stdout",
     "output_type": "stream",
     "text": [
      "processed 13258 tokens with 604 phrases; found: 12482 phrases; correct: 117.\n",
      "\n",
      "precision:  0.94%; recall:  19.37%; F1:  1.79\n",
      "\n"
     ]
    },
    {
     "data": {
      "text/plain": [
       "OrderedDict([('company',\n",
       "              OrderedDict([('precision', 1.2658227848101267),\n",
       "                           ('recall', 5.952380952380952),\n",
       "                           ('f1', 2.0876826722338206),\n",
       "                           ('n_predicted_entities', 395),\n",
       "                           ('n_true_entities', 84)])),\n",
       "             ('facility',\n",
       "              OrderedDict([('precision', 0.0),\n",
       "                           ('recall', 0.0),\n",
       "                           ('f1', 0),\n",
       "                           ('n_predicted_entities', 43),\n",
       "                           ('n_true_entities', 47)])),\n",
       "             ('geo-loc',\n",
       "              OrderedDict([('precision', 1.0761305094447624),\n",
       "                           ('recall', 56.96969696969697),\n",
       "                           ('f1', 2.112359550561798),\n",
       "                           ('n_predicted_entities', 8735),\n",
       "                           ('n_true_entities', 165)])),\n",
       "             ('movie',\n",
       "              OrderedDict([('precision', 0.0),\n",
       "                           ('recall', 0.0),\n",
       "                           ('f1', 0),\n",
       "                           ('n_predicted_entities', 31),\n",
       "                           ('n_true_entities', 8)])),\n",
       "             ('musicartist',\n",
       "              OrderedDict([('precision', 0.0),\n",
       "                           ('recall', 0.0),\n",
       "                           ('f1', 0),\n",
       "                           ('n_predicted_entities', 26),\n",
       "                           ('n_true_entities', 27)])),\n",
       "             ('other',\n",
       "              OrderedDict([('precision', 0.5668934240362812),\n",
       "                           ('recall', 4.854368932038835),\n",
       "                           ('f1', 1.015228426395939),\n",
       "                           ('n_predicted_entities', 882),\n",
       "                           ('n_true_entities', 103)])),\n",
       "             ('person',\n",
       "              OrderedDict([('precision', 0.5591397849462365),\n",
       "                           ('recall', 12.5),\n",
       "                           ('f1', 1.0703993412927129),\n",
       "                           ('n_predicted_entities', 2325),\n",
       "                           ('n_true_entities', 104)])),\n",
       "             ('product',\n",
       "              OrderedDict([('precision', 0.0),\n",
       "                           ('recall', 0.0),\n",
       "                           ('f1', 0),\n",
       "                           ('n_predicted_entities', 25),\n",
       "                           ('n_true_entities', 28)])),\n",
       "             ('sportsteam',\n",
       "              OrderedDict([('precision', 0.0),\n",
       "                           ('recall', 0.0),\n",
       "                           ('f1', 0),\n",
       "                           ('n_predicted_entities', 10),\n",
       "                           ('n_true_entities', 31)])),\n",
       "             ('tvshow',\n",
       "              OrderedDict([('precision', 0.0),\n",
       "                           ('recall', 0.0),\n",
       "                           ('f1', 0),\n",
       "                           ('n_predicted_entities', 10),\n",
       "                           ('n_true_entities', 7)]))])"
      ]
     },
     "execution_count": 533,
     "metadata": {},
     "output_type": "execute_result"
    }
   ],
   "source": [
    "eval_conll(model, test_idxs, test_tag_idxs)"
   ]
  },
  {
   "cell_type": "code",
   "execution_count": 508,
   "metadata": {},
   "outputs": [
    {
     "name": "stdout",
     "output_type": "stream",
     "text": [
      "processed 12836 tokens with 537 phrases; found: 12040 phrases; correct: 70.\n",
      "\n",
      "precision:  0.58%; recall:  13.04%; F1:  1.11\n",
      "\n"
     ]
    },
    {
     "data": {
      "text/plain": [
       "OrderedDict([('company',\n",
       "              OrderedDict([('precision', 0.7716049382716049),\n",
       "                           ('recall', 4.807692307692308),\n",
       "                           ('f1', 1.3297872340425532),\n",
       "                           ('n_predicted_entities', 648),\n",
       "                           ('n_true_entities', 104)])),\n",
       "             ('facility',\n",
       "              OrderedDict([('precision', 0.0),\n",
       "                           ('recall', 0.0),\n",
       "                           ('f1', 0),\n",
       "                           ('n_predicted_entities', 146),\n",
       "                           ('n_true_entities', 34)])),\n",
       "             ('geo-loc',\n",
       "              OrderedDict([('precision', 0.8202653799758746),\n",
       "                           ('recall', 30.08849557522124),\n",
       "                           ('f1', 1.5969938938468764),\n",
       "                           ('n_predicted_entities', 4145),\n",
       "                           ('n_true_entities', 113)])),\n",
       "             ('movie',\n",
       "              OrderedDict([('precision', 0.0),\n",
       "                           ('recall', 0.0),\n",
       "                           ('f1', 0),\n",
       "                           ('n_predicted_entities', 26),\n",
       "                           ('n_true_entities', 7)])),\n",
       "             ('musicartist',\n",
       "              OrderedDict([('precision', 0.0),\n",
       "                           ('recall', 0.0),\n",
       "                           ('f1', 0),\n",
       "                           ('n_predicted_entities', 44),\n",
       "                           ('n_true_entities', 28)])),\n",
       "             ('other',\n",
       "              OrderedDict([('precision', 0.3448275862068966),\n",
       "                           ('recall', 11.11111111111111),\n",
       "                           ('f1', 0.6688963210702341),\n",
       "                           ('n_predicted_entities', 2610),\n",
       "                           ('n_true_entities', 81)])),\n",
       "             ('person',\n",
       "              OrderedDict([('precision', 0.4836480884385076),\n",
       "                           ('recall', 18.75),\n",
       "                           ('f1', 0.9429726088908846),\n",
       "                           ('n_predicted_entities', 4342),\n",
       "                           ('n_true_entities', 112)])),\n",
       "             ('product',\n",
       "              OrderedDict([('precision', 0.0),\n",
       "                           ('recall', 0.0),\n",
       "                           ('f1', 0),\n",
       "                           ('n_predicted_entities', 33),\n",
       "                           ('n_true_entities', 34)])),\n",
       "             ('sportsteam',\n",
       "              OrderedDict([('precision', 5.0),\n",
       "                           ('recall', 5.0),\n",
       "                           ('f1', 5.0),\n",
       "                           ('n_predicted_entities', 20),\n",
       "                           ('n_true_entities', 20)])),\n",
       "             ('tvshow',\n",
       "              OrderedDict([('precision', 0.0),\n",
       "                           ('recall', 0.0),\n",
       "                           ('f1', 0),\n",
       "                           ('n_predicted_entities', 26),\n",
       "                           ('n_true_entities', 4)]))])"
      ]
     },
     "execution_count": 508,
     "metadata": {},
     "output_type": "execute_result"
    }
   ],
   "source": [
    "eval_conll(model, val_idxs, val_tag_idxs)"
   ]
  },
  {
   "cell_type": "markdown",
   "metadata": {},
   "source": [
    "## Бонусная часть. Улучшение качества теггера (4 балла).\n",
    "\n",
    "Улучшите качество теггера на данной задаче.\n",
    "\n",
    "Бонусные баллы будут начисляться в зависимости от результата f1-меры (одновременно на тестовой и валидационной выборках!).\n",
    "\n",
    "+ 1 балл — $> 0.38$\n",
    "+ 2 балла — $> 0.4$\n",
    "+ 3 балла — $> 0.425$\n",
    "+ 4 балла — $> 0.45$\n",
    "\n",
    "Разрешается использовать любые разумные способы (в том числе и не рассматривающиеся в курсе). Под неразумными способами понимаются любые, в которых используются модели, обученные на dev или test, а также модели, использующие утечки в данных, не относяющиеся к смыслу задачи."
   ]
  },
  {
   "cell_type": "code",
   "execution_count": null,
   "metadata": {},
   "outputs": [],
   "source": [
    "######################################\n",
    "######### YOUR CODE HERE #############\n",
    "######################################        "
   ]
  }
 ],
 "metadata": {
  "kernelspec": {
   "display_name": "Python 3",
   "language": "python",
   "name": "python3"
  },
  "language_info": {
   "codemirror_mode": {
    "name": "ipython",
    "version": 3
   },
   "file_extension": ".py",
   "mimetype": "text/x-python",
   "name": "python",
   "nbconvert_exporter": "python",
   "pygments_lexer": "ipython3",
   "version": "3.6.8"
  }
 },
 "nbformat": 4,
 "nbformat_minor": 1
}
